{
 "cells": [
  {
   "cell_type": "markdown",
   "metadata": {},
   "source": [
    "# Simple Project\n",
    "Make a simple model that predicts house price in California."
   ]
  },
  {
   "cell_type": "code",
   "execution_count": 90,
   "metadata": {},
   "outputs": [],
   "source": [
    "import sys\n",
    "assert sys.version_info >= (3, 5)\n",
    "\n",
    "# ScikitLearn ≥0.20 is essential\n",
    "import sklearn\n",
    "assert sklearn.__version__ >= \"0.20\"\n",
    "\n",
    "# import common modules\n",
    "import numpy as np\n",
    "import os\n",
    "\n",
    "%matplotlib inline\n",
    "import matplotlib as mpl\n",
    "import matplotlib.pyplot as plt\n",
    "mpl.rc('axes', labelsize=14)\n",
    "mpl.rc('xtick', labelsize=12)\n",
    "mpl.rc('ytick', labelsize=12)\n",
    "\n",
    "# directory for images\n",
    "PROJECT_ROOT_DIR = \".\"\n",
    "CHAPTER_ID = \"end_to_end_project\"\n",
    "IMAGES_PATH = os.path.join(PROJECT_ROOT_DIR, \"images\", CHAPTER_ID)\n",
    "os.makedirs(IMAGES_PATH, exist_ok=True)\n",
    "\n",
    "def save_fig(fig_id, tight_layout=True, fig_extension=\"png\", resolution=300):\n",
    "    path = os.path.join(IMAGES_PATH, fig_id + \".\" + fig_extension)\n",
    "    print(\"그림 저장:\", fig_id)\n",
    "    if tight_layout:\n",
    "        plt.tight_layout()\n",
    "    plt.savefig(path, format=fig_extension, dpi=resolution)"
   ]
  },
  {
   "cell_type": "markdown",
   "metadata": {},
   "source": [
    "## Data Loading\n",
    "Make a directory for the data -> Download tgz file from the url -> extract files from the tgz file"
   ]
  },
  {
   "cell_type": "code",
   "execution_count": 91,
   "metadata": {},
   "outputs": [],
   "source": [
    "from sklearn.model_selection import train_test_split\n",
    "from sklearn.model_selection import StratifiedShuffleSplit\n",
    "import urllib\n",
    "import tarfile\n",
    "import pandas as pd\n",
    "from zlib import crc32\n",
    "%matplotlib inline\n",
    "\n",
    "DOWNLOAD_ROOT = 'https://raw.githubusercontent.com/ageron/handson-ml/master/'\n",
    "HOUSING_PATH = os.path.join('datasets', 'housing')\n",
    "HOUSING_URL = DOWNLOAD_ROOT + 'datasets/housing/housing.tgz'"
   ]
  },
  {
   "cell_type": "code",
   "execution_count": 92,
   "metadata": {},
   "outputs": [
    {
     "name": "stdout",
     "output_type": "stream",
     "text": [
      "datasets\\housing\n"
     ]
    }
   ],
   "source": [
    "print(HOUSING_PATH)"
   ]
  },
  {
   "cell_type": "markdown",
   "metadata": {},
   "source": [
    "* os.makedirs(directory): if exist_ok is True, make a directory when there is no such a directory. If there exists the directory, error does not occur.\n",
    "* urllib.request.urlretrieve(url, filename): If a filename is passed and the URL points to a local resource, the result is a copy from local file to new file.\n",
    "* tarfile.open(): necessary for open .tgz file\n",
    "* extractall: extract all files from a opened tgz file."
   ]
  },
  {
   "cell_type": "code",
   "execution_count": 93,
   "metadata": {},
   "outputs": [],
   "source": [
    "def fetch_housing_data(housing_url = HOUSING_URL, housing_path = HOUSING_PATH):\n",
    "    os.makedirs(housing_path, exist_ok = True)\n",
    "    tgz_path = os.path.join(housing_path, 'housing.tgz')\n",
    "    urllib.request.urlretrieve(housing_url, tgz_path)\n",
    "    housing_tgz = tarfile.open(tgz_path)\n",
    "    housing_tgz.extractall(path = housing_path)\n",
    "    housing_tgz.close()"
   ]
  },
  {
   "cell_type": "code",
   "execution_count": 94,
   "metadata": {},
   "outputs": [],
   "source": [
    "def load_housing_data(housing_path = HOUSING_PATH):\n",
    "    csv_path = os.path.join(housing_path, 'housing.csv')\n",
    "    return pd.read_csv(csv_path)"
   ]
  },
  {
   "cell_type": "code",
   "execution_count": 95,
   "metadata": {},
   "outputs": [
    {
     "data": {
      "text/html": [
       "<div>\n",
       "<style scoped>\n",
       "    .dataframe tbody tr th:only-of-type {\n",
       "        vertical-align: middle;\n",
       "    }\n",
       "\n",
       "    .dataframe tbody tr th {\n",
       "        vertical-align: top;\n",
       "    }\n",
       "\n",
       "    .dataframe thead th {\n",
       "        text-align: right;\n",
       "    }\n",
       "</style>\n",
       "<table border=\"1\" class=\"dataframe\">\n",
       "  <thead>\n",
       "    <tr style=\"text-align: right;\">\n",
       "      <th></th>\n",
       "      <th>longitude</th>\n",
       "      <th>latitude</th>\n",
       "      <th>housing_median_age</th>\n",
       "      <th>total_rooms</th>\n",
       "      <th>total_bedrooms</th>\n",
       "      <th>population</th>\n",
       "      <th>households</th>\n",
       "      <th>median_income</th>\n",
       "      <th>median_house_value</th>\n",
       "      <th>ocean_proximity</th>\n",
       "    </tr>\n",
       "  </thead>\n",
       "  <tbody>\n",
       "    <tr>\n",
       "      <th>0</th>\n",
       "      <td>-122.23</td>\n",
       "      <td>37.88</td>\n",
       "      <td>41.0</td>\n",
       "      <td>880.0</td>\n",
       "      <td>129.0</td>\n",
       "      <td>322.0</td>\n",
       "      <td>126.0</td>\n",
       "      <td>8.3252</td>\n",
       "      <td>452600.0</td>\n",
       "      <td>NEAR BAY</td>\n",
       "    </tr>\n",
       "    <tr>\n",
       "      <th>1</th>\n",
       "      <td>-122.22</td>\n",
       "      <td>37.86</td>\n",
       "      <td>21.0</td>\n",
       "      <td>7099.0</td>\n",
       "      <td>1106.0</td>\n",
       "      <td>2401.0</td>\n",
       "      <td>1138.0</td>\n",
       "      <td>8.3014</td>\n",
       "      <td>358500.0</td>\n",
       "      <td>NEAR BAY</td>\n",
       "    </tr>\n",
       "    <tr>\n",
       "      <th>2</th>\n",
       "      <td>-122.24</td>\n",
       "      <td>37.85</td>\n",
       "      <td>52.0</td>\n",
       "      <td>1467.0</td>\n",
       "      <td>190.0</td>\n",
       "      <td>496.0</td>\n",
       "      <td>177.0</td>\n",
       "      <td>7.2574</td>\n",
       "      <td>352100.0</td>\n",
       "      <td>NEAR BAY</td>\n",
       "    </tr>\n",
       "    <tr>\n",
       "      <th>3</th>\n",
       "      <td>-122.25</td>\n",
       "      <td>37.85</td>\n",
       "      <td>52.0</td>\n",
       "      <td>1274.0</td>\n",
       "      <td>235.0</td>\n",
       "      <td>558.0</td>\n",
       "      <td>219.0</td>\n",
       "      <td>5.6431</td>\n",
       "      <td>341300.0</td>\n",
       "      <td>NEAR BAY</td>\n",
       "    </tr>\n",
       "    <tr>\n",
       "      <th>4</th>\n",
       "      <td>-122.25</td>\n",
       "      <td>37.85</td>\n",
       "      <td>52.0</td>\n",
       "      <td>1627.0</td>\n",
       "      <td>280.0</td>\n",
       "      <td>565.0</td>\n",
       "      <td>259.0</td>\n",
       "      <td>3.8462</td>\n",
       "      <td>342200.0</td>\n",
       "      <td>NEAR BAY</td>\n",
       "    </tr>\n",
       "  </tbody>\n",
       "</table>\n",
       "</div>"
      ],
      "text/plain": [
       "   longitude  latitude  housing_median_age  total_rooms  total_bedrooms  \\\n",
       "0    -122.23     37.88                41.0        880.0           129.0   \n",
       "1    -122.22     37.86                21.0       7099.0          1106.0   \n",
       "2    -122.24     37.85                52.0       1467.0           190.0   \n",
       "3    -122.25     37.85                52.0       1274.0           235.0   \n",
       "4    -122.25     37.85                52.0       1627.0           280.0   \n",
       "\n",
       "   population  households  median_income  median_house_value ocean_proximity  \n",
       "0       322.0       126.0         8.3252            452600.0        NEAR BAY  \n",
       "1      2401.0      1138.0         8.3014            358500.0        NEAR BAY  \n",
       "2       496.0       177.0         7.2574            352100.0        NEAR BAY  \n",
       "3       558.0       219.0         5.6431            341300.0        NEAR BAY  \n",
       "4       565.0       259.0         3.8462            342200.0        NEAR BAY  "
      ]
     },
     "execution_count": 95,
     "metadata": {},
     "output_type": "execute_result"
    }
   ],
   "source": [
    "fetch_housing_data()\n",
    "housing = load_housing_data()\n",
    "housing.head()"
   ]
  },
  {
   "cell_type": "markdown",
   "metadata": {},
   "source": [
    "## Data Overview\n",
    "* Type: Numerical Data? Category Data? ...\n",
    "* Distribution: Skewed? Scaled? Winsorized?"
   ]
  },
  {
   "cell_type": "code",
   "execution_count": 96,
   "metadata": {
    "scrolled": true
   },
   "outputs": [
    {
     "name": "stdout",
     "output_type": "stream",
     "text": [
      "<class 'pandas.core.frame.DataFrame'>\n",
      "RangeIndex: 20640 entries, 0 to 20639\n",
      "Data columns (total 10 columns):\n",
      " #   Column              Non-Null Count  Dtype  \n",
      "---  ------              --------------  -----  \n",
      " 0   longitude           20640 non-null  float64\n",
      " 1   latitude            20640 non-null  float64\n",
      " 2   housing_median_age  20640 non-null  float64\n",
      " 3   total_rooms         20640 non-null  float64\n",
      " 4   total_bedrooms      20433 non-null  float64\n",
      " 5   population          20640 non-null  float64\n",
      " 6   households          20640 non-null  float64\n",
      " 7   median_income       20640 non-null  float64\n",
      " 8   median_house_value  20640 non-null  float64\n",
      " 9   ocean_proximity     20640 non-null  object \n",
      "dtypes: float64(9), object(1)\n",
      "memory usage: 1.6+ MB\n"
     ]
    }
   ],
   "source": [
    "housing.info() #we can know type of each column"
   ]
  },
  {
   "cell_type": "markdown",
   "metadata": {},
   "source": [
    "Since only the 'ocen_proximity' column is object type, we need to focus on the categories consisting the 'ocean_proximity'."
   ]
  },
  {
   "cell_type": "code",
   "execution_count": 97,
   "metadata": {},
   "outputs": [
    {
     "data": {
      "text/plain": [
       "<1H OCEAN     9136\n",
       "INLAND        6551\n",
       "NEAR OCEAN    2658\n",
       "NEAR BAY      2290\n",
       "ISLAND           5\n",
       "Name: ocean_proximity, dtype: int64"
      ]
     },
     "execution_count": 97,
     "metadata": {},
     "output_type": "execute_result"
    }
   ],
   "source": [
    "housing['ocean_proximity'].value_counts()"
   ]
  },
  {
   "cell_type": "markdown",
   "metadata": {},
   "source": [
    "We can know numerical columns' properties with describe() function."
   ]
  },
  {
   "cell_type": "code",
   "execution_count": 98,
   "metadata": {},
   "outputs": [
    {
     "data": {
      "text/html": [
       "<div>\n",
       "<style scoped>\n",
       "    .dataframe tbody tr th:only-of-type {\n",
       "        vertical-align: middle;\n",
       "    }\n",
       "\n",
       "    .dataframe tbody tr th {\n",
       "        vertical-align: top;\n",
       "    }\n",
       "\n",
       "    .dataframe thead th {\n",
       "        text-align: right;\n",
       "    }\n",
       "</style>\n",
       "<table border=\"1\" class=\"dataframe\">\n",
       "  <thead>\n",
       "    <tr style=\"text-align: right;\">\n",
       "      <th></th>\n",
       "      <th>longitude</th>\n",
       "      <th>latitude</th>\n",
       "      <th>housing_median_age</th>\n",
       "      <th>total_rooms</th>\n",
       "      <th>total_bedrooms</th>\n",
       "      <th>population</th>\n",
       "      <th>households</th>\n",
       "      <th>median_income</th>\n",
       "      <th>median_house_value</th>\n",
       "    </tr>\n",
       "  </thead>\n",
       "  <tbody>\n",
       "    <tr>\n",
       "      <th>count</th>\n",
       "      <td>20640.000000</td>\n",
       "      <td>20640.000000</td>\n",
       "      <td>20640.000000</td>\n",
       "      <td>20640.000000</td>\n",
       "      <td>20433.000000</td>\n",
       "      <td>20640.000000</td>\n",
       "      <td>20640.000000</td>\n",
       "      <td>20640.000000</td>\n",
       "      <td>20640.000000</td>\n",
       "    </tr>\n",
       "    <tr>\n",
       "      <th>mean</th>\n",
       "      <td>-119.569704</td>\n",
       "      <td>35.631861</td>\n",
       "      <td>28.639486</td>\n",
       "      <td>2635.763081</td>\n",
       "      <td>537.870553</td>\n",
       "      <td>1425.476744</td>\n",
       "      <td>499.539680</td>\n",
       "      <td>3.870671</td>\n",
       "      <td>206855.816909</td>\n",
       "    </tr>\n",
       "    <tr>\n",
       "      <th>std</th>\n",
       "      <td>2.003532</td>\n",
       "      <td>2.135952</td>\n",
       "      <td>12.585558</td>\n",
       "      <td>2181.615252</td>\n",
       "      <td>421.385070</td>\n",
       "      <td>1132.462122</td>\n",
       "      <td>382.329753</td>\n",
       "      <td>1.899822</td>\n",
       "      <td>115395.615874</td>\n",
       "    </tr>\n",
       "    <tr>\n",
       "      <th>min</th>\n",
       "      <td>-124.350000</td>\n",
       "      <td>32.540000</td>\n",
       "      <td>1.000000</td>\n",
       "      <td>2.000000</td>\n",
       "      <td>1.000000</td>\n",
       "      <td>3.000000</td>\n",
       "      <td>1.000000</td>\n",
       "      <td>0.499900</td>\n",
       "      <td>14999.000000</td>\n",
       "    </tr>\n",
       "    <tr>\n",
       "      <th>25%</th>\n",
       "      <td>-121.800000</td>\n",
       "      <td>33.930000</td>\n",
       "      <td>18.000000</td>\n",
       "      <td>1447.750000</td>\n",
       "      <td>296.000000</td>\n",
       "      <td>787.000000</td>\n",
       "      <td>280.000000</td>\n",
       "      <td>2.563400</td>\n",
       "      <td>119600.000000</td>\n",
       "    </tr>\n",
       "    <tr>\n",
       "      <th>50%</th>\n",
       "      <td>-118.490000</td>\n",
       "      <td>34.260000</td>\n",
       "      <td>29.000000</td>\n",
       "      <td>2127.000000</td>\n",
       "      <td>435.000000</td>\n",
       "      <td>1166.000000</td>\n",
       "      <td>409.000000</td>\n",
       "      <td>3.534800</td>\n",
       "      <td>179700.000000</td>\n",
       "    </tr>\n",
       "    <tr>\n",
       "      <th>75%</th>\n",
       "      <td>-118.010000</td>\n",
       "      <td>37.710000</td>\n",
       "      <td>37.000000</td>\n",
       "      <td>3148.000000</td>\n",
       "      <td>647.000000</td>\n",
       "      <td>1725.000000</td>\n",
       "      <td>605.000000</td>\n",
       "      <td>4.743250</td>\n",
       "      <td>264725.000000</td>\n",
       "    </tr>\n",
       "    <tr>\n",
       "      <th>max</th>\n",
       "      <td>-114.310000</td>\n",
       "      <td>41.950000</td>\n",
       "      <td>52.000000</td>\n",
       "      <td>39320.000000</td>\n",
       "      <td>6445.000000</td>\n",
       "      <td>35682.000000</td>\n",
       "      <td>6082.000000</td>\n",
       "      <td>15.000100</td>\n",
       "      <td>500001.000000</td>\n",
       "    </tr>\n",
       "  </tbody>\n",
       "</table>\n",
       "</div>"
      ],
      "text/plain": [
       "          longitude      latitude  housing_median_age   total_rooms  \\\n",
       "count  20640.000000  20640.000000        20640.000000  20640.000000   \n",
       "mean    -119.569704     35.631861           28.639486   2635.763081   \n",
       "std        2.003532      2.135952           12.585558   2181.615252   \n",
       "min     -124.350000     32.540000            1.000000      2.000000   \n",
       "25%     -121.800000     33.930000           18.000000   1447.750000   \n",
       "50%     -118.490000     34.260000           29.000000   2127.000000   \n",
       "75%     -118.010000     37.710000           37.000000   3148.000000   \n",
       "max     -114.310000     41.950000           52.000000  39320.000000   \n",
       "\n",
       "       total_bedrooms    population    households  median_income  \\\n",
       "count    20433.000000  20640.000000  20640.000000   20640.000000   \n",
       "mean       537.870553   1425.476744    499.539680       3.870671   \n",
       "std        421.385070   1132.462122    382.329753       1.899822   \n",
       "min          1.000000      3.000000      1.000000       0.499900   \n",
       "25%        296.000000    787.000000    280.000000       2.563400   \n",
       "50%        435.000000   1166.000000    409.000000       3.534800   \n",
       "75%        647.000000   1725.000000    605.000000       4.743250   \n",
       "max       6445.000000  35682.000000   6082.000000      15.000100   \n",
       "\n",
       "       median_house_value  \n",
       "count        20640.000000  \n",
       "mean        206855.816909  \n",
       "std         115395.615874  \n",
       "min          14999.000000  \n",
       "25%         119600.000000  \n",
       "50%         179700.000000  \n",
       "75%         264725.000000  \n",
       "max         500001.000000  "
      ]
     },
     "execution_count": 98,
     "metadata": {},
     "output_type": "execute_result"
    }
   ],
   "source": [
    "housing.describe()"
   ]
  },
  {
   "cell_type": "markdown",
   "metadata": {},
   "source": [
    "### Visualization"
   ]
  },
  {
   "cell_type": "code",
   "execution_count": 99,
   "metadata": {},
   "outputs": [
    {
     "data": {
      "image/png": "[encoded data removed]",
      "text/plain": [
       "<Figure size 1440x1080 with 9 Axes>"
      ]
     },
     "metadata": {
      "needs_background": "light"
     },
     "output_type": "display_data"
    }
   ],
   "source": [
    "housing.hist(bins = 50, figsize = (20, 15))\n",
    "plt.show()"
   ]
  },
  {
   "cell_type": "markdown",
   "metadata": {},
   "source": [
    "### What can we know?\n",
    "1. 'median_house_value', 'housing_median_age' are showing extreme high value at the most right side of the histogram. This phenomenon is caused by winsorization.\n",
    "2. Scale of 'median_income' seems strange. According to the author, 'median_income' is divided by 10,000.\n",
    "3. Scales of data are diffrent attribute by attribute.\n",
    "4. Tails are very thick."
   ]
  },
  {
   "cell_type": "markdown",
   "metadata": {},
   "source": [
    "## Make a Test Set\n",
    "To prevent Data Snooping (bias), split test set from the data set before the project!"
   ]
  },
  {
   "cell_type": "markdown",
   "metadata": {},
   "source": [
    "### Random Sampling \n",
    "<b>1. random sampling</b>"
   ]
  },
  {
   "cell_type": "code",
   "execution_count": 100,
   "metadata": {},
   "outputs": [
    {
     "data": {
      "text/plain": [
       "array([6, 5, 1, 9, 2, 7, 8, 0, 3, 4])"
      ]
     },
     "execution_count": 100,
     "metadata": {},
     "output_type": "execute_result"
    }
   ],
   "source": [
    "np.random.permutation(10)"
   ]
  },
  {
   "cell_type": "code",
   "execution_count": 101,
   "metadata": {},
   "outputs": [],
   "source": [
    "def split_train_test(data, test_ratio):\n",
    "    shuffled_indicies = np.random.permutation(len(data))\n",
    "    test_set_size = int(len(data) * test_ratio)\n",
    "    test_set_indicies = shuffled_indicies[:test_set_size]\n",
    "    train_set_indicies = shuffled_indicies[test_set_size:]\n",
    "    return data.iloc[test_set_indicies], data.iloc[train_set_indicies]"
   ]
  },
  {
   "cell_type": "code",
   "execution_count": 102,
   "metadata": {},
   "outputs": [
    {
     "name": "stdout",
     "output_type": "stream",
     "text": [
      "4128\n",
      "16512\n"
     ]
    }
   ],
   "source": [
    "test_set, train_set = split_train_test(housing, 0.2)\n",
    "print(len(test_set))\n",
    "print(len(train_set))"
   ]
  },
  {
   "cell_type": "markdown",
   "metadata": {},
   "source": [
    "<b>2. split using hash</b>\n",
    "\n",
    "'split_train_test' function is not enough because every time we run the code, test set will change. There is other ways to handle this problem."
   ]
  },
  {
   "cell_type": "markdown",
   "metadata": {},
   "source": [
    "crc32: we can compute the checksum for crc32 (Cyclic Redundancy Check) to a particular data. It will give 32-bit integer value as a result by using zlib.crc32() method."
   ]
  },
  {
   "cell_type": "code",
   "execution_count": 103,
   "metadata": {},
   "outputs": [
    {
     "data": {
      "text/plain": [
       "0       -244.46\n",
       "1       -244.44\n",
       "2       -244.48\n",
       "3       -244.50\n",
       "4       -244.50\n",
       "          ...  \n",
       "20635   -242.18\n",
       "20636   -242.42\n",
       "20637   -242.44\n",
       "20638   -242.64\n",
       "20639   -242.48\n",
       "Name: longitude, Length: 20640, dtype: float64"
      ]
     },
     "execution_count": 103,
     "metadata": {},
     "output_type": "execute_result"
    }
   ],
   "source": [
    "housing['longitude'].apply(lambda x: x*2)"
   ]
  },
  {
   "cell_type": "code",
   "execution_count": 104,
   "metadata": {},
   "outputs": [],
   "source": [
    "def test_set_check(identifier, test_ratio):\n",
    "    return crc32(np.int64(identifier)) & 0xffffffff < test_ratio * 2**32\n",
    "\n",
    "def split_train_test_by_id(data, test_ratio, id_column):\n",
    "    ids = data[id_column]\n",
    "    test_ids = ids.apply(lambda id_: test_set_check(id_, test_ratio))\n",
    "    return data.loc[~test_ids], data.loc[test_ids]"
   ]
  },
  {
   "cell_type": "code",
   "execution_count": 105,
   "metadata": {},
   "outputs": [
    {
     "name": "stdout",
     "output_type": "stream",
     "text": [
      "16512 4128\n"
     ]
    }
   ],
   "source": [
    "housing_with_id = housing.reset_index()\n",
    "train_set, test_set = split_train_test_by_id(housing_with_id, 0.2, 'index')\n",
    "print(len(train_set), len(test_set))"
   ]
  },
  {
   "cell_type": "markdown",
   "metadata": {},
   "source": [
    "<b>3. split using scikitlearn </b>"
   ]
  },
  {
   "cell_type": "code",
   "execution_count": 106,
   "metadata": {},
   "outputs": [
    {
     "name": "stdout",
     "output_type": "stream",
     "text": [
      "16512 4128\n"
     ]
    }
   ],
   "source": [
    "train_set, test_set = train_test_split(housing, test_size = 0.2, random_state = 42)\n",
    "print(len(train_set), len(test_set))"
   ]
  },
  {
   "cell_type": "markdown",
   "metadata": {},
   "source": [
    "### Stratified Sampling\n",
    "Since sample must represent population correctly as much as possible, we do stratified sampling. (If 30% of population consists of women ,and gender is important attribute for the accuracy ofmodel, our test set has to consist of 30% of women.)\n",
    "* In this case, assume that category of income is important attrubute, which implies that we split test set and train set considering\n",
    "the category of income"
   ]
  },
  {
   "cell_type": "code",
   "execution_count": 107,
   "metadata": {},
   "outputs": [
    {
     "data": {
      "text/plain": [
       "<matplotlib.axes._subplots.AxesSubplot at 0x22206e55f08>"
      ]
     },
     "execution_count": 107,
     "metadata": {},
     "output_type": "execute_result"
    },
    {
     "data": {
      "image/png": "[encoded data removed]",
      "text/plain": [
       "<Figure size 432x288 with 1 Axes>"
      ]
     },
     "metadata": {
      "needs_background": "light"
     },
     "output_type": "display_data"
    }
   ],
   "source": [
    "housing['income_cat'] = pd.cut(housing['median_income'], bins = [0., 1.5, 3.0, 4.5, 6.0, np.inf],\n",
    "                                       labels = [1, 2, 3, 4, 5])\n",
    "housing['income_cat'].hist()"
   ]
  },
  {
   "cell_type": "code",
   "execution_count": 108,
   "metadata": {},
   "outputs": [],
   "source": [
    "split = StratifiedShuffleSplit(n_splits = 1, test_size = 0.2, random_state = 42)"
   ]
  },
  {
   "cell_type": "code",
   "execution_count": 109,
   "metadata": {},
   "outputs": [
    {
     "name": "stdout",
     "output_type": "stream",
     "text": [
      "[17606 18632 14650 ... 13908 11159 15775]\n",
      "[ 5241 10970 20351 ...  4019 12107  2398]\n",
      "3    0.350533\n",
      "2    0.318798\n",
      "4    0.176357\n",
      "5    0.114583\n",
      "1    0.039729\n",
      "Name: income_cat, dtype: float64\n"
     ]
    }
   ],
   "source": [
    "for train_idx, test_idx in split.split(housing, housing['income_cat']):\n",
    "    print(train_idx)\n",
    "    print(test_idx)\n",
    "    strat_train_set = housing.loc[train_idx]\n",
    "    strat_test_set = housing.loc[test_idx]\n",
    "print(strat_test_set['income_cat'].value_counts() / len(strat_test_set))"
   ]
  },
  {
   "cell_type": "code",
   "execution_count": 21,
   "metadata": {},
   "outputs": [],
   "source": [
    "def get_proportions(data):\n",
    "    return data['income_cat'].value_counts() / len(data)"
   ]
  },
  {
   "cell_type": "code",
   "execution_count": 22,
   "metadata": {},
   "outputs": [
    {
     "data": {
      "text/html": [
       "<div>\n",
       "<style scoped>\n",
       "    .dataframe tbody tr th:only-of-type {\n",
       "        vertical-align: middle;\n",
       "    }\n",
       "\n",
       "    .dataframe tbody tr th {\n",
       "        vertical-align: top;\n",
       "    }\n",
       "\n",
       "    .dataframe thead th {\n",
       "        text-align: right;\n",
       "    }\n",
       "</style>\n",
       "<table border=\"1\" class=\"dataframe\">\n",
       "  <thead>\n",
       "    <tr style=\"text-align: right;\">\n",
       "      <th></th>\n",
       "      <th>Total</th>\n",
       "      <th>Strat</th>\n",
       "      <th>Rand</th>\n",
       "      <th>%error of Strat</th>\n",
       "      <th>%error of Rand</th>\n",
       "    </tr>\n",
       "  </thead>\n",
       "  <tbody>\n",
       "    <tr>\n",
       "      <th>1</th>\n",
       "      <td>0.039826</td>\n",
       "      <td>0.039729</td>\n",
       "      <td>0.034641</td>\n",
       "      <td>-0.243309</td>\n",
       "      <td>-13.017032</td>\n",
       "    </tr>\n",
       "    <tr>\n",
       "      <th>2</th>\n",
       "      <td>0.318847</td>\n",
       "      <td>0.318798</td>\n",
       "      <td>0.314922</td>\n",
       "      <td>-0.015195</td>\n",
       "      <td>-1.230816</td>\n",
       "    </tr>\n",
       "    <tr>\n",
       "      <th>3</th>\n",
       "      <td>0.350581</td>\n",
       "      <td>0.350533</td>\n",
       "      <td>0.354651</td>\n",
       "      <td>-0.013820</td>\n",
       "      <td>1.160862</td>\n",
       "    </tr>\n",
       "    <tr>\n",
       "      <th>4</th>\n",
       "      <td>0.176308</td>\n",
       "      <td>0.176357</td>\n",
       "      <td>0.182897</td>\n",
       "      <td>0.027480</td>\n",
       "      <td>3.737290</td>\n",
       "    </tr>\n",
       "    <tr>\n",
       "      <th>5</th>\n",
       "      <td>0.114438</td>\n",
       "      <td>0.114583</td>\n",
       "      <td>0.112888</td>\n",
       "      <td>0.127011</td>\n",
       "      <td>-1.354784</td>\n",
       "    </tr>\n",
       "  </tbody>\n",
       "</table>\n",
       "</div>"
      ],
      "text/plain": [
       "      Total     Strat      Rand  %error of Strat  %error of Rand\n",
       "1  0.039826  0.039729  0.034641        -0.243309      -13.017032\n",
       "2  0.318847  0.318798  0.314922        -0.015195       -1.230816\n",
       "3  0.350581  0.350533  0.354651        -0.013820        1.160862\n",
       "4  0.176308  0.176357  0.182897         0.027480        3.737290\n",
       "5  0.114438  0.114583  0.112888         0.127011       -1.354784"
      ]
     },
     "execution_count": 22,
     "metadata": {},
     "output_type": "execute_result"
    }
   ],
   "source": [
    "rand_test_set, rand_train_set = split_train_test(housing, 0.2)\n",
    "\n",
    "comp_table = pd.DataFrame(data = [get_proportions(housing),\n",
    "                    get_proportions(strat_test_set),\n",
    "                    get_proportions(rand_test_set)]).T\n",
    "comp_table.columns = ['Total','Strat','Rand']\n",
    "comp_table.sort_index(inplace = True)\n",
    "comp_table['%error of Strat'] = (comp_table['Strat'] - comp_table['Total']) / comp_table['Total'] * 100\n",
    "comp_table['%error of Rand'] = (comp_table['Rand'] - comp_table['Total']) / comp_table['Total'] * 100\n",
    "comp_table"
   ]
  },
  {
   "cell_type": "markdown",
   "metadata": {},
   "source": [
    "We can see that stratified sampling show lower error than random sampling. Then, we bring back the split data as follows."
   ]
  },
  {
   "cell_type": "code",
   "execution_count": 23,
   "metadata": {},
   "outputs": [],
   "source": [
    "strat_test_set.drop('income_cat', axis = 1, inplace = True)\n",
    "strat_train_set.drop('income_cat', axis = 1, inplace = True)"
   ]
  },
  {
   "cell_type": "markdown",
   "metadata": {},
   "source": [
    "## Explanatory Data Analysis\n",
    "We investigate train set"
   ]
  },
  {
   "cell_type": "code",
   "execution_count": 24,
   "metadata": {},
   "outputs": [],
   "source": [
    "housing = strat_train_set.copy()"
   ]
  },
  {
   "cell_type": "markdown",
   "metadata": {},
   "source": [
    "### Visualization"
   ]
  },
  {
   "cell_type": "markdown",
   "metadata": {},
   "source": [
    "1. bad case"
   ]
  },
  {
   "cell_type": "code",
   "execution_count": 25,
   "metadata": {
    "scrolled": true
   },
   "outputs": [
    {
     "data": {
      "text/plain": [
       "<matplotlib.axes._subplots.AxesSubplot at 0x2225d8d7808>"
      ]
     },
     "execution_count": 25,
     "metadata": {},
     "output_type": "execute_result"
    },
    {
     "data": {
      "image/png": "[encoded data removed]",
      "text/plain": [
       "<Figure size 432x288 with 1 Axes>"
      ]
     },
     "metadata": {
      "needs_background": "light"
     },
     "output_type": "display_data"
    }
   ],
   "source": [
    "housing.plot(kind = 'scatter', x = 'longitude', y = 'latitude')"
   ]
  },
  {
   "cell_type": "markdown",
   "metadata": {},
   "source": [
    "2. better case"
   ]
  },
  {
   "cell_type": "code",
   "execution_count": 26,
   "metadata": {},
   "outputs": [
    {
     "data": {
      "text/plain": [
       "<matplotlib.axes._subplots.AxesSubplot at 0x2225d86dcc8>"
      ]
     },
     "execution_count": 26,
     "metadata": {},
     "output_type": "execute_result"
    },
    {
     "data": {
      "image/png": "[encoded data removed]",
      "text/plain": [
       "<Figure size 432x288 with 1 Axes>"
      ]
     },
     "metadata": {
      "needs_background": "light"
     },
     "output_type": "display_data"
    }
   ],
   "source": [
    "housing.plot(kind = 'scatter', x = 'longitude', y = 'latitude', alpha = 0.1) #can visualise density"
   ]
  },
  {
   "cell_type": "markdown",
   "metadata": {},
   "source": [
    "3. almost best case"
   ]
  },
  {
   "cell_type": "code",
   "execution_count": 27,
   "metadata": {},
   "outputs": [
    {
     "data": {
      "text/plain": [
       "<matplotlib.axes._subplots.AxesSubplot at 0x2225dbdc8c8>"
      ]
     },
     "execution_count": 27,
     "metadata": {},
     "output_type": "execute_result"
    },
    {
     "data": {
      "image/png": "[encoded data removed]",
      "text/plain": [
       "<Figure size 720x504 with 2 Axes>"
      ]
     },
     "metadata": {
      "needs_background": "light"
     },
     "output_type": "display_data"
    }
   ],
   "source": [
    "POP_SCALER = 100\n",
    "\n",
    "housing.plot(kind = 'scatter', x = 'longitude', y = 'latitude', alpha = 0.4,\n",
    "            s = housing['population'] / POP_SCALER, label = 'population',\n",
    "            c = 'median_house_value', cmap = plt.get_cmap('jet'), colorbar = True,\n",
    "            figsize = (10,7))\n"
   ]
  },
  {
   "cell_type": "markdown",
   "metadata": {},
   "source": [
    "<b>It seems that house price is highly related to regions(ocean approxmity ... ) and population density.</b> In this case, we can use clustering algorithm."
   ]
  },
  {
   "cell_type": "markdown",
   "metadata": {},
   "source": [
    "### Correlation(Pearson)\n",
    "According to the correlation matrix below, median_house_value is positively correlated to the median_income."
   ]
  },
  {
   "cell_type": "code",
   "execution_count": 28,
   "metadata": {},
   "outputs": [
    {
     "data": {
      "text/html": [
       "<div>\n",
       "<style scoped>\n",
       "    .dataframe tbody tr th:only-of-type {\n",
       "        vertical-align: middle;\n",
       "    }\n",
       "\n",
       "    .dataframe tbody tr th {\n",
       "        vertical-align: top;\n",
       "    }\n",
       "\n",
       "    .dataframe thead th {\n",
       "        text-align: right;\n",
       "    }\n",
       "</style>\n",
       "<table border=\"1\" class=\"dataframe\">\n",
       "  <thead>\n",
       "    <tr style=\"text-align: right;\">\n",
       "      <th></th>\n",
       "      <th>longitude</th>\n",
       "      <th>latitude</th>\n",
       "      <th>housing_median_age</th>\n",
       "      <th>total_rooms</th>\n",
       "      <th>total_bedrooms</th>\n",
       "      <th>population</th>\n",
       "      <th>households</th>\n",
       "      <th>median_income</th>\n",
       "      <th>median_house_value</th>\n",
       "    </tr>\n",
       "  </thead>\n",
       "  <tbody>\n",
       "    <tr>\n",
       "      <th>longitude</th>\n",
       "      <td>1.000000</td>\n",
       "      <td>-0.924478</td>\n",
       "      <td>-0.105848</td>\n",
       "      <td>0.048871</td>\n",
       "      <td>0.076598</td>\n",
       "      <td>0.108030</td>\n",
       "      <td>0.063070</td>\n",
       "      <td>-0.019583</td>\n",
       "      <td>-0.047432</td>\n",
       "    </tr>\n",
       "    <tr>\n",
       "      <th>latitude</th>\n",
       "      <td>-0.924478</td>\n",
       "      <td>1.000000</td>\n",
       "      <td>0.005766</td>\n",
       "      <td>-0.039184</td>\n",
       "      <td>-0.072419</td>\n",
       "      <td>-0.115222</td>\n",
       "      <td>-0.077647</td>\n",
       "      <td>-0.075205</td>\n",
       "      <td>-0.142724</td>\n",
       "    </tr>\n",
       "    <tr>\n",
       "      <th>housing_median_age</th>\n",
       "      <td>-0.105848</td>\n",
       "      <td>0.005766</td>\n",
       "      <td>1.000000</td>\n",
       "      <td>-0.364509</td>\n",
       "      <td>-0.325047</td>\n",
       "      <td>-0.298710</td>\n",
       "      <td>-0.306428</td>\n",
       "      <td>-0.111360</td>\n",
       "      <td>0.114110</td>\n",
       "    </tr>\n",
       "    <tr>\n",
       "      <th>total_rooms</th>\n",
       "      <td>0.048871</td>\n",
       "      <td>-0.039184</td>\n",
       "      <td>-0.364509</td>\n",
       "      <td>1.000000</td>\n",
       "      <td>0.929379</td>\n",
       "      <td>0.855109</td>\n",
       "      <td>0.918392</td>\n",
       "      <td>0.200087</td>\n",
       "      <td>0.135097</td>\n",
       "    </tr>\n",
       "    <tr>\n",
       "      <th>total_bedrooms</th>\n",
       "      <td>0.076598</td>\n",
       "      <td>-0.072419</td>\n",
       "      <td>-0.325047</td>\n",
       "      <td>0.929379</td>\n",
       "      <td>1.000000</td>\n",
       "      <td>0.876320</td>\n",
       "      <td>0.980170</td>\n",
       "      <td>-0.009740</td>\n",
       "      <td>0.047689</td>\n",
       "    </tr>\n",
       "    <tr>\n",
       "      <th>population</th>\n",
       "      <td>0.108030</td>\n",
       "      <td>-0.115222</td>\n",
       "      <td>-0.298710</td>\n",
       "      <td>0.855109</td>\n",
       "      <td>0.876320</td>\n",
       "      <td>1.000000</td>\n",
       "      <td>0.904637</td>\n",
       "      <td>0.002380</td>\n",
       "      <td>-0.026920</td>\n",
       "    </tr>\n",
       "    <tr>\n",
       "      <th>households</th>\n",
       "      <td>0.063070</td>\n",
       "      <td>-0.077647</td>\n",
       "      <td>-0.306428</td>\n",
       "      <td>0.918392</td>\n",
       "      <td>0.980170</td>\n",
       "      <td>0.904637</td>\n",
       "      <td>1.000000</td>\n",
       "      <td>0.010781</td>\n",
       "      <td>0.064506</td>\n",
       "    </tr>\n",
       "    <tr>\n",
       "      <th>median_income</th>\n",
       "      <td>-0.019583</td>\n",
       "      <td>-0.075205</td>\n",
       "      <td>-0.111360</td>\n",
       "      <td>0.200087</td>\n",
       "      <td>-0.009740</td>\n",
       "      <td>0.002380</td>\n",
       "      <td>0.010781</td>\n",
       "      <td>1.000000</td>\n",
       "      <td>0.687160</td>\n",
       "    </tr>\n",
       "    <tr>\n",
       "      <th>median_house_value</th>\n",
       "      <td>-0.047432</td>\n",
       "      <td>-0.142724</td>\n",
       "      <td>0.114110</td>\n",
       "      <td>0.135097</td>\n",
       "      <td>0.047689</td>\n",
       "      <td>-0.026920</td>\n",
       "      <td>0.064506</td>\n",
       "      <td>0.687160</td>\n",
       "      <td>1.000000</td>\n",
       "    </tr>\n",
       "  </tbody>\n",
       "</table>\n",
       "</div>"
      ],
      "text/plain": [
       "                    longitude  latitude  housing_median_age  total_rooms  \\\n",
       "longitude            1.000000 -0.924478           -0.105848     0.048871   \n",
       "latitude            -0.924478  1.000000            0.005766    -0.039184   \n",
       "housing_median_age  -0.105848  0.005766            1.000000    -0.364509   \n",
       "total_rooms          0.048871 -0.039184           -0.364509     1.000000   \n",
       "total_bedrooms       0.076598 -0.072419           -0.325047     0.929379   \n",
       "population           0.108030 -0.115222           -0.298710     0.855109   \n",
       "households           0.063070 -0.077647           -0.306428     0.918392   \n",
       "median_income       -0.019583 -0.075205           -0.111360     0.200087   \n",
       "median_house_value  -0.047432 -0.142724            0.114110     0.135097   \n",
       "\n",
       "                    total_bedrooms  population  households  median_income  \\\n",
       "longitude                 0.076598    0.108030    0.063070      -0.019583   \n",
       "latitude                 -0.072419   -0.115222   -0.077647      -0.075205   \n",
       "housing_median_age       -0.325047   -0.298710   -0.306428      -0.111360   \n",
       "total_rooms               0.929379    0.855109    0.918392       0.200087   \n",
       "total_bedrooms            1.000000    0.876320    0.980170      -0.009740   \n",
       "population                0.876320    1.000000    0.904637       0.002380   \n",
       "households                0.980170    0.904637    1.000000       0.010781   \n",
       "median_income            -0.009740    0.002380    0.010781       1.000000   \n",
       "median_house_value        0.047689   -0.026920    0.064506       0.687160   \n",
       "\n",
       "                    median_house_value  \n",
       "longitude                    -0.047432  \n",
       "latitude                     -0.142724  \n",
       "housing_median_age            0.114110  \n",
       "total_rooms                   0.135097  \n",
       "total_bedrooms                0.047689  \n",
       "population                   -0.026920  \n",
       "households                    0.064506  \n",
       "median_income                 0.687160  \n",
       "median_house_value            1.000000  "
      ]
     },
     "execution_count": 28,
     "metadata": {},
     "output_type": "execute_result"
    }
   ],
   "source": [
    "corr_matrix = housing.corr()\n",
    "corr_matrix"
   ]
  },
  {
   "cell_type": "code",
   "execution_count": 29,
   "metadata": {},
   "outputs": [
    {
     "data": {
      "text/plain": [
       "median_house_value    1.000000\n",
       "median_income         0.687160\n",
       "total_rooms           0.135097\n",
       "housing_median_age    0.114110\n",
       "households            0.064506\n",
       "total_bedrooms        0.047689\n",
       "population           -0.026920\n",
       "longitude            -0.047432\n",
       "latitude             -0.142724\n",
       "Name: median_house_value, dtype: float64"
      ]
     },
     "execution_count": 29,
     "metadata": {},
     "output_type": "execute_result"
    }
   ],
   "source": [
    "corr_matrix['median_house_value'].sort_values(ascending = False)"
   ]
  },
  {
   "cell_type": "markdown",
   "metadata": {},
   "source": [
    "We can check positive correlation in scatter plot below as well."
   ]
  },
  {
   "cell_type": "code",
   "execution_count": 30,
   "metadata": {},
   "outputs": [
    {
     "data": {
      "text/plain": [
       "array([[<matplotlib.axes._subplots.AxesSubplot object at 0x000002225E6DDE48>,\n",
       "        <matplotlib.axes._subplots.AxesSubplot object at 0x000002225E587EC8>,\n",
       "        <matplotlib.axes._subplots.AxesSubplot object at 0x000002225E482508>,\n",
       "        <matplotlib.axes._subplots.AxesSubplot object at 0x000002225E4B8EC8>],\n",
       "       [<matplotlib.axes._subplots.AxesSubplot object at 0x000002225E4F18C8>,\n",
       "        <matplotlib.axes._subplots.AxesSubplot object at 0x000002225E52B5C8>,\n",
       "        <matplotlib.axes._subplots.AxesSubplot object at 0x000002225E563608>,\n",
       "        <matplotlib.axes._subplots.AxesSubplot object at 0x000002225E5DC708>],\n",
       "       [<matplotlib.axes._subplots.AxesSubplot object at 0x000002225E5E8308>,\n",
       "        <matplotlib.axes._subplots.AxesSubplot object at 0x000002225E620508>,\n",
       "        <matplotlib.axes._subplots.AxesSubplot object at 0x000002225E6E3A88>,\n",
       "        <matplotlib.axes._subplots.AxesSubplot object at 0x000002225E71DB08>],\n",
       "       [<matplotlib.axes._subplots.AxesSubplot object at 0x000002225E756C48>,\n",
       "        <matplotlib.axes._subplots.AxesSubplot object at 0x000002225E78ED48>,\n",
       "        <matplotlib.axes._subplots.AxesSubplot object at 0x000002225E7C7E48>,\n",
       "        <matplotlib.axes._subplots.AxesSubplot object at 0x000002225E940F88>]],\n",
       "      dtype=object)"
      ]
     },
     "execution_count": 30,
     "metadata": {},
     "output_type": "execute_result"
    },
    {
     "data": {
      "image/png": "[encoded data removed]",
      "text/plain": [
       "<Figure size 864x576 with 16 Axes>"
      ]
     },
     "metadata": {
      "needs_background": "light"
     },
     "output_type": "display_data"
    }
   ],
   "source": [
    "from pandas.plotting import scatter_matrix\n",
    "\n",
    "attrs = ['median_house_value','median_income', 'total_rooms', 'housing_median_age'] #121(11*11) is too much\n",
    "scatter_matrix(housing[attrs], figsize = (12, 8))"
   ]
  },
  {
   "cell_type": "code",
   "execution_count": 31,
   "metadata": {},
   "outputs": [
    {
     "data": {
      "text/plain": [
       "<matplotlib.axes._subplots.AxesSubplot at 0x2225d35c808>"
      ]
     },
     "execution_count": 31,
     "metadata": {},
     "output_type": "execute_result"
    },
    {
     "data": {
      "image/png": "[encoded data removed]",
      "text/plain": [
       "<Figure size 432x288 with 1 Axes>"
      ]
     },
     "metadata": {
      "needs_background": "light"
     },
     "output_type": "display_data"
    }
   ],
   "source": [
    "housing.plot(kind = 'scatter', x = 'median_income', y = 'median_house_value', alpha = 0.1)"
   ]
  },
  {
   "cell_type": "markdown",
   "metadata": {},
   "source": [
    "We can see horizontal lines around 500,000, 450,000 and 350,000 ... . To prevent our model from learning these pattern, we need to eliminete these data."
   ]
  },
  {
   "cell_type": "markdown",
   "metadata": {},
   "source": [
    "### Feature Combination\n",
    "From existing features, we can derive other more meaningful features."
   ]
  },
  {
   "cell_type": "code",
   "execution_count": 32,
   "metadata": {},
   "outputs": [
    {
     "data": {
      "text/plain": [
       "median_house_value          1.000000\n",
       "median_income               0.687160\n",
       "rooms_per_household         0.146285\n",
       "total_rooms                 0.135097\n",
       "housing_median_age          0.114110\n",
       "households                  0.064506\n",
       "total_bedrooms              0.047689\n",
       "population_per_household   -0.021985\n",
       "population                 -0.026920\n",
       "longitude                  -0.047432\n",
       "latitude                   -0.142724\n",
       "bedrooms_per_room          -0.259984\n",
       "Name: median_house_value, dtype: float64"
      ]
     },
     "execution_count": 32,
     "metadata": {},
     "output_type": "execute_result"
    }
   ],
   "source": [
    "housing['rooms_per_household'] = housing['total_rooms'] / housing['households']\n",
    "housing['bedrooms_per_room'] = housing['total_bedrooms'] / housing['total_rooms']\n",
    "housing['population_per_household'] = housing['population'] / housing['households']\n",
    "\n",
    "corr_matrix = housing.corr()\n",
    "corr_matrix['median_house_value'].sort_values(ascending = False)"
   ]
  },
  {
   "cell_type": "markdown",
   "metadata": {},
   "source": [
    "bedrooms_per_room shows higher absolute value than each total_rooms and total_bedrooms."
   ]
  },
  {
   "cell_type": "markdown",
   "metadata": {},
   "source": [
    "## Data Preprocessing"
   ]
  },
  {
   "cell_type": "code",
   "execution_count": 33,
   "metadata": {},
   "outputs": [],
   "source": [
    "housing = strat_train_set.drop('median_house_value', axis = 1)\n",
    "housing_labels = strat_train_set['median_house_value'].copy()"
   ]
  },
  {
   "cell_type": "markdown",
   "metadata": {},
   "source": [
    "### Data Cleansing\n",
    "How to handle missing values?('total_bedrooms')\n",
    "1. eliminate missing observations\n",
    "2. eliminate whole attribute\n",
    "3. fill up those values(median, mean, 0)"
   ]
  },
  {
   "cell_type": "code",
   "execution_count": 34,
   "metadata": {},
   "outputs": [
    {
     "data": {
      "text/plain": [
       "17606     351.0\n",
       "18632     108.0\n",
       "14650     471.0\n",
       "3230      371.0\n",
       "3555     1525.0\n",
       "          ...  \n",
       "6563      236.0\n",
       "12053     294.0\n",
       "13908     872.0\n",
       "11159     380.0\n",
       "15775     682.0\n",
       "Name: total_bedrooms, Length: 16512, dtype: float64"
      ]
     },
     "execution_count": 34,
     "metadata": {},
     "output_type": "execute_result"
    }
   ],
   "source": [
    "housing.dropna(subset = ['total_bedrooms']) #option1\n",
    "housing.drop('total_bedrooms', axis = 1)    #option2\n",
    "med = housing['total_bedrooms'].median()    #option3\n",
    "housing['total_bedrooms'].fillna(med)"
   ]
  },
  {
   "cell_type": "markdown",
   "metadata": {},
   "source": [
    "<b>Preprocessing for numerical data</b>\n",
    "\n",
    "We can handle missing values for numerical data using SimpleImputer."
   ]
  },
  {
   "cell_type": "code",
   "execution_count": 35,
   "metadata": {},
   "outputs": [],
   "source": [
    "from sklearn.impute import SimpleImputer\n",
    "\n",
    "imputer = SimpleImputer(strategy = 'median')"
   ]
  },
  {
   "cell_type": "code",
   "execution_count": 36,
   "metadata": {},
   "outputs": [
    {
     "name": "stdout",
     "output_type": "stream",
     "text": [
      "[-118.51     34.26     29.     2119.5     433.     1164.      408.\n",
      "    3.5409]\n",
      "[-118.51     34.26     29.     2119.5     433.     1164.      408.\n",
      "    3.5409]\n"
     ]
    }
   ],
   "source": [
    "housing_num = housing.drop('ocean_proximity', axis = 1) #drop categorical data\n",
    "imputer.fit(housing_num)\n",
    "print(imputer.statistics_)\n",
    "print(housing_num.median().values)"
   ]
  },
  {
   "cell_type": "code",
   "execution_count": 37,
   "metadata": {
    "scrolled": false
   },
   "outputs": [
    {
     "data": {
      "text/html": [
       "<div>\n",
       "<style scoped>\n",
       "    .dataframe tbody tr th:only-of-type {\n",
       "        vertical-align: middle;\n",
       "    }\n",
       "\n",
       "    .dataframe tbody tr th {\n",
       "        vertical-align: top;\n",
       "    }\n",
       "\n",
       "    .dataframe thead th {\n",
       "        text-align: right;\n",
       "    }\n",
       "</style>\n",
       "<table border=\"1\" class=\"dataframe\">\n",
       "  <thead>\n",
       "    <tr style=\"text-align: right;\">\n",
       "      <th></th>\n",
       "      <th>longitude</th>\n",
       "      <th>latitude</th>\n",
       "      <th>housing_median_age</th>\n",
       "      <th>total_rooms</th>\n",
       "      <th>total_bedrooms</th>\n",
       "      <th>population</th>\n",
       "      <th>households</th>\n",
       "      <th>median_income</th>\n",
       "    </tr>\n",
       "  </thead>\n",
       "  <tbody>\n",
       "    <tr>\n",
       "      <th>17606</th>\n",
       "      <td>-121.89</td>\n",
       "      <td>37.29</td>\n",
       "      <td>38.0</td>\n",
       "      <td>1568.0</td>\n",
       "      <td>351.0</td>\n",
       "      <td>710.0</td>\n",
       "      <td>339.0</td>\n",
       "      <td>2.7042</td>\n",
       "    </tr>\n",
       "    <tr>\n",
       "      <th>18632</th>\n",
       "      <td>-121.93</td>\n",
       "      <td>37.05</td>\n",
       "      <td>14.0</td>\n",
       "      <td>679.0</td>\n",
       "      <td>108.0</td>\n",
       "      <td>306.0</td>\n",
       "      <td>113.0</td>\n",
       "      <td>6.4214</td>\n",
       "    </tr>\n",
       "    <tr>\n",
       "      <th>14650</th>\n",
       "      <td>-117.20</td>\n",
       "      <td>32.77</td>\n",
       "      <td>31.0</td>\n",
       "      <td>1952.0</td>\n",
       "      <td>471.0</td>\n",
       "      <td>936.0</td>\n",
       "      <td>462.0</td>\n",
       "      <td>2.8621</td>\n",
       "    </tr>\n",
       "    <tr>\n",
       "      <th>3230</th>\n",
       "      <td>-119.61</td>\n",
       "      <td>36.31</td>\n",
       "      <td>25.0</td>\n",
       "      <td>1847.0</td>\n",
       "      <td>371.0</td>\n",
       "      <td>1460.0</td>\n",
       "      <td>353.0</td>\n",
       "      <td>1.8839</td>\n",
       "    </tr>\n",
       "    <tr>\n",
       "      <th>3555</th>\n",
       "      <td>-118.59</td>\n",
       "      <td>34.23</td>\n",
       "      <td>17.0</td>\n",
       "      <td>6592.0</td>\n",
       "      <td>1525.0</td>\n",
       "      <td>4459.0</td>\n",
       "      <td>1463.0</td>\n",
       "      <td>3.0347</td>\n",
       "    </tr>\n",
       "    <tr>\n",
       "      <th>...</th>\n",
       "      <td>...</td>\n",
       "      <td>...</td>\n",
       "      <td>...</td>\n",
       "      <td>...</td>\n",
       "      <td>...</td>\n",
       "      <td>...</td>\n",
       "      <td>...</td>\n",
       "      <td>...</td>\n",
       "    </tr>\n",
       "    <tr>\n",
       "      <th>6563</th>\n",
       "      <td>-118.13</td>\n",
       "      <td>34.20</td>\n",
       "      <td>46.0</td>\n",
       "      <td>1271.0</td>\n",
       "      <td>236.0</td>\n",
       "      <td>573.0</td>\n",
       "      <td>210.0</td>\n",
       "      <td>4.9312</td>\n",
       "    </tr>\n",
       "    <tr>\n",
       "      <th>12053</th>\n",
       "      <td>-117.56</td>\n",
       "      <td>33.88</td>\n",
       "      <td>40.0</td>\n",
       "      <td>1196.0</td>\n",
       "      <td>294.0</td>\n",
       "      <td>1052.0</td>\n",
       "      <td>258.0</td>\n",
       "      <td>2.0682</td>\n",
       "    </tr>\n",
       "    <tr>\n",
       "      <th>13908</th>\n",
       "      <td>-116.40</td>\n",
       "      <td>34.09</td>\n",
       "      <td>9.0</td>\n",
       "      <td>4855.0</td>\n",
       "      <td>872.0</td>\n",
       "      <td>2098.0</td>\n",
       "      <td>765.0</td>\n",
       "      <td>3.2723</td>\n",
       "    </tr>\n",
       "    <tr>\n",
       "      <th>11159</th>\n",
       "      <td>-118.01</td>\n",
       "      <td>33.82</td>\n",
       "      <td>31.0</td>\n",
       "      <td>1960.0</td>\n",
       "      <td>380.0</td>\n",
       "      <td>1356.0</td>\n",
       "      <td>356.0</td>\n",
       "      <td>4.0625</td>\n",
       "    </tr>\n",
       "    <tr>\n",
       "      <th>15775</th>\n",
       "      <td>-122.45</td>\n",
       "      <td>37.77</td>\n",
       "      <td>52.0</td>\n",
       "      <td>3095.0</td>\n",
       "      <td>682.0</td>\n",
       "      <td>1269.0</td>\n",
       "      <td>639.0</td>\n",
       "      <td>3.5750</td>\n",
       "    </tr>\n",
       "  </tbody>\n",
       "</table>\n",
       "<p>16512 rows × 8 columns</p>\n",
       "</div>"
      ],
      "text/plain": [
       "       longitude  latitude  housing_median_age  total_rooms  total_bedrooms  \\\n",
       "17606    -121.89     37.29                38.0       1568.0           351.0   \n",
       "18632    -121.93     37.05                14.0        679.0           108.0   \n",
       "14650    -117.20     32.77                31.0       1952.0           471.0   \n",
       "3230     -119.61     36.31                25.0       1847.0           371.0   \n",
       "3555     -118.59     34.23                17.0       6592.0          1525.0   \n",
       "...          ...       ...                 ...          ...             ...   \n",
       "6563     -118.13     34.20                46.0       1271.0           236.0   \n",
       "12053    -117.56     33.88                40.0       1196.0           294.0   \n",
       "13908    -116.40     34.09                 9.0       4855.0           872.0   \n",
       "11159    -118.01     33.82                31.0       1960.0           380.0   \n",
       "15775    -122.45     37.77                52.0       3095.0           682.0   \n",
       "\n",
       "       population  households  median_income  \n",
       "17606       710.0       339.0         2.7042  \n",
       "18632       306.0       113.0         6.4214  \n",
       "14650       936.0       462.0         2.8621  \n",
       "3230       1460.0       353.0         1.8839  \n",
       "3555       4459.0      1463.0         3.0347  \n",
       "...           ...         ...            ...  \n",
       "6563        573.0       210.0         4.9312  \n",
       "12053      1052.0       258.0         2.0682  \n",
       "13908      2098.0       765.0         3.2723  \n",
       "11159      1356.0       356.0         4.0625  \n",
       "15775      1269.0       639.0         3.5750  \n",
       "\n",
       "[16512 rows x 8 columns]"
      ]
     },
     "execution_count": 37,
     "metadata": {},
     "output_type": "execute_result"
    }
   ],
   "source": [
    "X = imputer.transform(housing_num)\n",
    "housing_tr = pd.DataFrame(data = X, columns = housing_num.columns,\n",
    "                         index = housing_num.index)\n",
    "housing_tr"
   ]
  },
  {
   "cell_type": "markdown",
   "metadata": {},
   "source": [
    "<b>Preprocessing for text data</b>\n",
    "\n",
    "We can handle text or category data using OrdinalEncoder or OneHotEncoder."
   ]
  },
  {
   "cell_type": "code",
   "execution_count": 38,
   "metadata": {},
   "outputs": [
    {
     "data": {
      "text/html": [
       "<div>\n",
       "<style scoped>\n",
       "    .dataframe tbody tr th:only-of-type {\n",
       "        vertical-align: middle;\n",
       "    }\n",
       "\n",
       "    .dataframe tbody tr th {\n",
       "        vertical-align: top;\n",
       "    }\n",
       "\n",
       "    .dataframe thead th {\n",
       "        text-align: right;\n",
       "    }\n",
       "</style>\n",
       "<table border=\"1\" class=\"dataframe\">\n",
       "  <thead>\n",
       "    <tr style=\"text-align: right;\">\n",
       "      <th></th>\n",
       "      <th>ocean_proximity</th>\n",
       "    </tr>\n",
       "  </thead>\n",
       "  <tbody>\n",
       "    <tr>\n",
       "      <th>17606</th>\n",
       "      <td>&lt;1H OCEAN</td>\n",
       "    </tr>\n",
       "    <tr>\n",
       "      <th>18632</th>\n",
       "      <td>&lt;1H OCEAN</td>\n",
       "    </tr>\n",
       "    <tr>\n",
       "      <th>14650</th>\n",
       "      <td>NEAR OCEAN</td>\n",
       "    </tr>\n",
       "    <tr>\n",
       "      <th>3230</th>\n",
       "      <td>INLAND</td>\n",
       "    </tr>\n",
       "    <tr>\n",
       "      <th>3555</th>\n",
       "      <td>&lt;1H OCEAN</td>\n",
       "    </tr>\n",
       "  </tbody>\n",
       "</table>\n",
       "</div>"
      ],
      "text/plain": [
       "      ocean_proximity\n",
       "17606       <1H OCEAN\n",
       "18632       <1H OCEAN\n",
       "14650      NEAR OCEAN\n",
       "3230           INLAND\n",
       "3555        <1H OCEAN"
      ]
     },
     "execution_count": 38,
     "metadata": {},
     "output_type": "execute_result"
    }
   ],
   "source": [
    "housing_cat = housing[['ocean_proximity']]\n",
    "housing_cat.head()"
   ]
  },
  {
   "cell_type": "code",
   "execution_count": 39,
   "metadata": {},
   "outputs": [
    {
     "data": {
      "text/plain": [
       "array([[0.],\n",
       "       [0.],\n",
       "       [4.],\n",
       "       ...,\n",
       "       [1.],\n",
       "       [0.],\n",
       "       [3.]])"
      ]
     },
     "execution_count": 39,
     "metadata": {},
     "output_type": "execute_result"
    }
   ],
   "source": [
    "from sklearn.preprocessing import OrdinalEncoder\n",
    "\n",
    "ord_enc = OrdinalEncoder()\n",
    "housing_cat_enc = ord_enc.fit_transform(housing_cat)\n",
    "housing_cat_enc"
   ]
  },
  {
   "cell_type": "code",
   "execution_count": 40,
   "metadata": {},
   "outputs": [
    {
     "data": {
      "text/plain": [
       "[array(['<1H OCEAN', 'INLAND', 'ISLAND', 'NEAR BAY', 'NEAR OCEAN'],\n",
       "       dtype=object)]"
      ]
     },
     "execution_count": 40,
     "metadata": {},
     "output_type": "execute_result"
    }
   ],
   "source": [
    "ord_enc.categories_"
   ]
  },
  {
   "cell_type": "markdown",
   "metadata": {},
   "source": [
    "However, our category  ['<1H OCEAN', 'INLAND', 'ISLAND', 'NEAR BAY', 'NEAR OCEAN'] does not show ordinal pattern like ['bad', 'good', 'excellent']. Rather, <1H OCEAN is more relevant to 'NEAR OCEAN'. Therefore, other preprocessing is necessary."
   ]
  },
  {
   "cell_type": "code",
   "execution_count": 41,
   "metadata": {},
   "outputs": [
    {
     "data": {
      "text/plain": [
       "array([[1., 0., 0., 0., 0.],\n",
       "       [1., 0., 0., 0., 0.],\n",
       "       [0., 0., 0., 0., 1.],\n",
       "       ...,\n",
       "       [0., 1., 0., 0., 0.],\n",
       "       [1., 0., 0., 0., 0.],\n",
       "       [0., 0., 0., 1., 0.]])"
      ]
     },
     "execution_count": 41,
     "metadata": {},
     "output_type": "execute_result"
    }
   ],
   "source": [
    "from sklearn.preprocessing import OneHotEncoder\n",
    "\n",
    "onehot_enc = OneHotEncoder()\n",
    "housing_cat_onehot = onehot_enc.fit_transform(housing_cat) #onehot encoding matrix is very sparse and big.\n",
    "                                                           #'sparse matrix' is efficient in this case\n",
    "housing_cat_onehot.toarray() #since return data is sparse, toarray() method is required to get array form data."
   ]
  },
  {
   "cell_type": "code",
   "execution_count": 42,
   "metadata": {},
   "outputs": [
    {
     "data": {
      "text/plain": [
       "[array(['<1H OCEAN', 'INLAND', 'ISLAND', 'NEAR BAY', 'NEAR OCEAN'],\n",
       "       dtype=object)]"
      ]
     },
     "execution_count": 42,
     "metadata": {},
     "output_type": "execute_result"
    }
   ],
   "source": [
    "onehot_enc.categories_"
   ]
  },
  {
   "cell_type": "code",
   "execution_count": 43,
   "metadata": {},
   "outputs": [
    {
     "data": {
      "text/html": [
       "<div>\n",
       "<style scoped>\n",
       "    .dataframe tbody tr th:only-of-type {\n",
       "        vertical-align: middle;\n",
       "    }\n",
       "\n",
       "    .dataframe tbody tr th {\n",
       "        vertical-align: top;\n",
       "    }\n",
       "\n",
       "    .dataframe thead tr th {\n",
       "        text-align: left;\n",
       "    }\n",
       "</style>\n",
       "<table border=\"1\" class=\"dataframe\">\n",
       "  <thead>\n",
       "    <tr>\n",
       "      <th></th>\n",
       "      <th>&lt;1H OCEAN</th>\n",
       "      <th>INLAND</th>\n",
       "      <th>ISLAND</th>\n",
       "      <th>NEAR BAY</th>\n",
       "      <th>NEAR OCEAN</th>\n",
       "    </tr>\n",
       "  </thead>\n",
       "  <tbody>\n",
       "    <tr>\n",
       "      <th>0</th>\n",
       "      <td>1.0</td>\n",
       "      <td>0.0</td>\n",
       "      <td>0.0</td>\n",
       "      <td>0.0</td>\n",
       "      <td>0.0</td>\n",
       "    </tr>\n",
       "    <tr>\n",
       "      <th>1</th>\n",
       "      <td>1.0</td>\n",
       "      <td>0.0</td>\n",
       "      <td>0.0</td>\n",
       "      <td>0.0</td>\n",
       "      <td>0.0</td>\n",
       "    </tr>\n",
       "    <tr>\n",
       "      <th>2</th>\n",
       "      <td>0.0</td>\n",
       "      <td>0.0</td>\n",
       "      <td>0.0</td>\n",
       "      <td>0.0</td>\n",
       "      <td>1.0</td>\n",
       "    </tr>\n",
       "    <tr>\n",
       "      <th>3</th>\n",
       "      <td>0.0</td>\n",
       "      <td>1.0</td>\n",
       "      <td>0.0</td>\n",
       "      <td>0.0</td>\n",
       "      <td>0.0</td>\n",
       "    </tr>\n",
       "    <tr>\n",
       "      <th>4</th>\n",
       "      <td>1.0</td>\n",
       "      <td>0.0</td>\n",
       "      <td>0.0</td>\n",
       "      <td>0.0</td>\n",
       "      <td>0.0</td>\n",
       "    </tr>\n",
       "    <tr>\n",
       "      <th>...</th>\n",
       "      <td>...</td>\n",
       "      <td>...</td>\n",
       "      <td>...</td>\n",
       "      <td>...</td>\n",
       "      <td>...</td>\n",
       "    </tr>\n",
       "    <tr>\n",
       "      <th>16507</th>\n",
       "      <td>0.0</td>\n",
       "      <td>1.0</td>\n",
       "      <td>0.0</td>\n",
       "      <td>0.0</td>\n",
       "      <td>0.0</td>\n",
       "    </tr>\n",
       "    <tr>\n",
       "      <th>16508</th>\n",
       "      <td>0.0</td>\n",
       "      <td>1.0</td>\n",
       "      <td>0.0</td>\n",
       "      <td>0.0</td>\n",
       "      <td>0.0</td>\n",
       "    </tr>\n",
       "    <tr>\n",
       "      <th>16509</th>\n",
       "      <td>0.0</td>\n",
       "      <td>1.0</td>\n",
       "      <td>0.0</td>\n",
       "      <td>0.0</td>\n",
       "      <td>0.0</td>\n",
       "    </tr>\n",
       "    <tr>\n",
       "      <th>16510</th>\n",
       "      <td>1.0</td>\n",
       "      <td>0.0</td>\n",
       "      <td>0.0</td>\n",
       "      <td>0.0</td>\n",
       "      <td>0.0</td>\n",
       "    </tr>\n",
       "    <tr>\n",
       "      <th>16511</th>\n",
       "      <td>0.0</td>\n",
       "      <td>0.0</td>\n",
       "      <td>0.0</td>\n",
       "      <td>1.0</td>\n",
       "      <td>0.0</td>\n",
       "    </tr>\n",
       "  </tbody>\n",
       "</table>\n",
       "<p>16512 rows × 5 columns</p>\n",
       "</div>"
      ],
      "text/plain": [
       "      <1H OCEAN INLAND ISLAND NEAR BAY NEAR OCEAN\n",
       "0           1.0    0.0    0.0      0.0        0.0\n",
       "1           1.0    0.0    0.0      0.0        0.0\n",
       "2           0.0    0.0    0.0      0.0        1.0\n",
       "3           0.0    1.0    0.0      0.0        0.0\n",
       "4           1.0    0.0    0.0      0.0        0.0\n",
       "...         ...    ...    ...      ...        ...\n",
       "16507       0.0    1.0    0.0      0.0        0.0\n",
       "16508       0.0    1.0    0.0      0.0        0.0\n",
       "16509       0.0    1.0    0.0      0.0        0.0\n",
       "16510       1.0    0.0    0.0      0.0        0.0\n",
       "16511       0.0    0.0    0.0      1.0        0.0\n",
       "\n",
       "[16512 rows x 5 columns]"
      ]
     },
     "execution_count": 43,
     "metadata": {},
     "output_type": "execute_result"
    }
   ],
   "source": [
    "pd.DataFrame(housing_cat_onehot.toarray(), columns = onehot_enc.categories_)"
   ]
  },
  {
   "cell_type": "markdown",
   "metadata": {},
   "source": [
    "If the number of categories is too large, one_hot encoding can make model training slower and inefficient. In this case, Embedding can be a good alternative. Or finding other attribute can be another solution for the problem. For example, distance_to_ocean can be a good numerical attribute for ocean_proximity."
   ]
  },
  {
   "cell_type": "markdown",
   "metadata": {},
   "source": [
    "<b>My customized transformer</b>\n",
    "\n",
    "Example for the feature combination above. This kind of transformer is useful for the case that what feature selection is ambiguous."
   ]
  },
  {
   "cell_type": "code",
   "execution_count": 44,
   "metadata": {},
   "outputs": [
    {
     "data": {
      "text/html": [
       "<div>\n",
       "<style scoped>\n",
       "    .dataframe tbody tr th:only-of-type {\n",
       "        vertical-align: middle;\n",
       "    }\n",
       "\n",
       "    .dataframe tbody tr th {\n",
       "        vertical-align: top;\n",
       "    }\n",
       "\n",
       "    .dataframe thead th {\n",
       "        text-align: right;\n",
       "    }\n",
       "</style>\n",
       "<table border=\"1\" class=\"dataframe\">\n",
       "  <thead>\n",
       "    <tr style=\"text-align: right;\">\n",
       "      <th></th>\n",
       "      <th>longitude</th>\n",
       "      <th>latitude</th>\n",
       "      <th>housing_median_age</th>\n",
       "      <th>total_rooms</th>\n",
       "      <th>total_bedrooms</th>\n",
       "      <th>population</th>\n",
       "      <th>households</th>\n",
       "      <th>median_income</th>\n",
       "      <th>ocean_proximity</th>\n",
       "      <th>rooms_per_household</th>\n",
       "      <th>population_per_household</th>\n",
       "      <th>bedrooms_per_room</th>\n",
       "    </tr>\n",
       "  </thead>\n",
       "  <tbody>\n",
       "    <tr>\n",
       "      <th>0</th>\n",
       "      <td>-121.89</td>\n",
       "      <td>37.29</td>\n",
       "      <td>38</td>\n",
       "      <td>1568</td>\n",
       "      <td>351</td>\n",
       "      <td>710</td>\n",
       "      <td>339</td>\n",
       "      <td>2.7042</td>\n",
       "      <td>&lt;1H OCEAN</td>\n",
       "      <td>4.62537</td>\n",
       "      <td>2.0944</td>\n",
       "      <td>0.223852</td>\n",
       "    </tr>\n",
       "    <tr>\n",
       "      <th>1</th>\n",
       "      <td>-121.93</td>\n",
       "      <td>37.05</td>\n",
       "      <td>14</td>\n",
       "      <td>679</td>\n",
       "      <td>108</td>\n",
       "      <td>306</td>\n",
       "      <td>113</td>\n",
       "      <td>6.4214</td>\n",
       "      <td>&lt;1H OCEAN</td>\n",
       "      <td>6.00885</td>\n",
       "      <td>2.70796</td>\n",
       "      <td>0.159057</td>\n",
       "    </tr>\n",
       "    <tr>\n",
       "      <th>2</th>\n",
       "      <td>-117.2</td>\n",
       "      <td>32.77</td>\n",
       "      <td>31</td>\n",
       "      <td>1952</td>\n",
       "      <td>471</td>\n",
       "      <td>936</td>\n",
       "      <td>462</td>\n",
       "      <td>2.8621</td>\n",
       "      <td>NEAR OCEAN</td>\n",
       "      <td>4.22511</td>\n",
       "      <td>2.02597</td>\n",
       "      <td>0.241291</td>\n",
       "    </tr>\n",
       "    <tr>\n",
       "      <th>3</th>\n",
       "      <td>-119.61</td>\n",
       "      <td>36.31</td>\n",
       "      <td>25</td>\n",
       "      <td>1847</td>\n",
       "      <td>371</td>\n",
       "      <td>1460</td>\n",
       "      <td>353</td>\n",
       "      <td>1.8839</td>\n",
       "      <td>INLAND</td>\n",
       "      <td>5.23229</td>\n",
       "      <td>4.13598</td>\n",
       "      <td>0.200866</td>\n",
       "    </tr>\n",
       "    <tr>\n",
       "      <th>4</th>\n",
       "      <td>-118.59</td>\n",
       "      <td>34.23</td>\n",
       "      <td>17</td>\n",
       "      <td>6592</td>\n",
       "      <td>1525</td>\n",
       "      <td>4459</td>\n",
       "      <td>1463</td>\n",
       "      <td>3.0347</td>\n",
       "      <td>&lt;1H OCEAN</td>\n",
       "      <td>4.50581</td>\n",
       "      <td>3.04785</td>\n",
       "      <td>0.231341</td>\n",
       "    </tr>\n",
       "    <tr>\n",
       "      <th>...</th>\n",
       "      <td>...</td>\n",
       "      <td>...</td>\n",
       "      <td>...</td>\n",
       "      <td>...</td>\n",
       "      <td>...</td>\n",
       "      <td>...</td>\n",
       "      <td>...</td>\n",
       "      <td>...</td>\n",
       "      <td>...</td>\n",
       "      <td>...</td>\n",
       "      <td>...</td>\n",
       "      <td>...</td>\n",
       "    </tr>\n",
       "    <tr>\n",
       "      <th>16507</th>\n",
       "      <td>-118.13</td>\n",
       "      <td>34.2</td>\n",
       "      <td>46</td>\n",
       "      <td>1271</td>\n",
       "      <td>236</td>\n",
       "      <td>573</td>\n",
       "      <td>210</td>\n",
       "      <td>4.9312</td>\n",
       "      <td>INLAND</td>\n",
       "      <td>6.05238</td>\n",
       "      <td>2.72857</td>\n",
       "      <td>0.185681</td>\n",
       "    </tr>\n",
       "    <tr>\n",
       "      <th>16508</th>\n",
       "      <td>-117.56</td>\n",
       "      <td>33.88</td>\n",
       "      <td>40</td>\n",
       "      <td>1196</td>\n",
       "      <td>294</td>\n",
       "      <td>1052</td>\n",
       "      <td>258</td>\n",
       "      <td>2.0682</td>\n",
       "      <td>INLAND</td>\n",
       "      <td>4.63566</td>\n",
       "      <td>4.07752</td>\n",
       "      <td>0.245819</td>\n",
       "    </tr>\n",
       "    <tr>\n",
       "      <th>16509</th>\n",
       "      <td>-116.4</td>\n",
       "      <td>34.09</td>\n",
       "      <td>9</td>\n",
       "      <td>4855</td>\n",
       "      <td>872</td>\n",
       "      <td>2098</td>\n",
       "      <td>765</td>\n",
       "      <td>3.2723</td>\n",
       "      <td>INLAND</td>\n",
       "      <td>6.34641</td>\n",
       "      <td>2.74248</td>\n",
       "      <td>0.179609</td>\n",
       "    </tr>\n",
       "    <tr>\n",
       "      <th>16510</th>\n",
       "      <td>-118.01</td>\n",
       "      <td>33.82</td>\n",
       "      <td>31</td>\n",
       "      <td>1960</td>\n",
       "      <td>380</td>\n",
       "      <td>1356</td>\n",
       "      <td>356</td>\n",
       "      <td>4.0625</td>\n",
       "      <td>&lt;1H OCEAN</td>\n",
       "      <td>5.50562</td>\n",
       "      <td>3.80899</td>\n",
       "      <td>0.193878</td>\n",
       "    </tr>\n",
       "    <tr>\n",
       "      <th>16511</th>\n",
       "      <td>-122.45</td>\n",
       "      <td>37.77</td>\n",
       "      <td>52</td>\n",
       "      <td>3095</td>\n",
       "      <td>682</td>\n",
       "      <td>1269</td>\n",
       "      <td>639</td>\n",
       "      <td>3.575</td>\n",
       "      <td>NEAR BAY</td>\n",
       "      <td>4.84351</td>\n",
       "      <td>1.98592</td>\n",
       "      <td>0.220355</td>\n",
       "    </tr>\n",
       "  </tbody>\n",
       "</table>\n",
       "<p>16512 rows × 12 columns</p>\n",
       "</div>"
      ],
      "text/plain": [
       "      longitude latitude housing_median_age total_rooms total_bedrooms  \\\n",
       "0       -121.89    37.29                 38        1568            351   \n",
       "1       -121.93    37.05                 14         679            108   \n",
       "2        -117.2    32.77                 31        1952            471   \n",
       "3       -119.61    36.31                 25        1847            371   \n",
       "4       -118.59    34.23                 17        6592           1525   \n",
       "...         ...      ...                ...         ...            ...   \n",
       "16507   -118.13     34.2                 46        1271            236   \n",
       "16508   -117.56    33.88                 40        1196            294   \n",
       "16509    -116.4    34.09                  9        4855            872   \n",
       "16510   -118.01    33.82                 31        1960            380   \n",
       "16511   -122.45    37.77                 52        3095            682   \n",
       "\n",
       "      population households median_income ocean_proximity rooms_per_household  \\\n",
       "0            710        339        2.7042       <1H OCEAN             4.62537   \n",
       "1            306        113        6.4214       <1H OCEAN             6.00885   \n",
       "2            936        462        2.8621      NEAR OCEAN             4.22511   \n",
       "3           1460        353        1.8839          INLAND             5.23229   \n",
       "4           4459       1463        3.0347       <1H OCEAN             4.50581   \n",
       "...          ...        ...           ...             ...                 ...   \n",
       "16507        573        210        4.9312          INLAND             6.05238   \n",
       "16508       1052        258        2.0682          INLAND             4.63566   \n",
       "16509       2098        765        3.2723          INLAND             6.34641   \n",
       "16510       1356        356        4.0625       <1H OCEAN             5.50562   \n",
       "16511       1269        639         3.575        NEAR BAY             4.84351   \n",
       "\n",
       "      population_per_household bedrooms_per_room  \n",
       "0                       2.0944          0.223852  \n",
       "1                      2.70796          0.159057  \n",
       "2                      2.02597          0.241291  \n",
       "3                      4.13598          0.200866  \n",
       "4                      3.04785          0.231341  \n",
       "...                        ...               ...  \n",
       "16507                  2.72857          0.185681  \n",
       "16508                  4.07752          0.245819  \n",
       "16509                  2.74248          0.179609  \n",
       "16510                  3.80899          0.193878  \n",
       "16511                  1.98592          0.220355  \n",
       "\n",
       "[16512 rows x 12 columns]"
      ]
     },
     "execution_count": 44,
     "metadata": {},
     "output_type": "execute_result"
    }
   ],
   "source": [
    "from sklearn.base import BaseEstimator, TransformerMixin\n",
    "\n",
    "col_names = \"total_rooms\", \"total_bedrooms\", \"population\", \"households\"\n",
    "rooms_ix, bedrooms_ix, population_ix, households_ix = [\n",
    "    housing.columns.get_loc(c) for c in col_names] # get column index dynamically\n",
    "\n",
    "class CombinedAttributesAdder(BaseEstimator, TransformerMixin):\n",
    "    def __init__(self, add_bed_rooms_per_room = True):\n",
    "        self.add_bed_rooms_per_room = add_bed_rooms_per_room\n",
    "    def fit(self, data, y = 0):\n",
    "        return self\n",
    "    def transform(self, data, y = 0):\n",
    "        rooms_per_household = data[:, rooms_ix] / data[:, households_ix]\n",
    "        population_per_household = data[:, population_ix] / data[:, households_ix]\n",
    "        if self.add_bed_rooms_per_room:\n",
    "            bedrooms_per_room = data[:, bedrooms_ix] / data[:, rooms_ix]\n",
    "            return np.c_[data, rooms_per_household, population_per_household, bedrooms_per_room]\n",
    "        else:\n",
    "            return np.c_[data, rooms_per_household, population_per_household]\n",
    "\n",
    "attr_adder = CombinedAttributesAdder(add_bed_rooms_per_room = True)\n",
    "housing_extra_attrs = attr_adder.transform(housing.values)\n",
    "cols = list(housing.columns)\n",
    "cols.extend(['rooms_per_household', 'population_per_household', 'bedrooms_per_room'])\n",
    "housing_tr = pd.DataFrame(data = housing_extra_attrs, columns = cols)\n",
    "housing_tr"
   ]
  },
  {
   "cell_type": "markdown",
   "metadata": {},
   "source": [
    "### Feature Scaling\n",
    "Except for tree algorithms, input data scale nedd to be consistent for the better model.\n",
    "* MinMaxScaler\n",
    "* StandardScaler"
   ]
  },
  {
   "cell_type": "markdown",
   "metadata": {},
   "source": [
    "### Pipeline"
   ]
  },
  {
   "cell_type": "code",
   "execution_count": 45,
   "metadata": {},
   "outputs": [
    {
     "data": {
      "text/html": [
       "<div>\n",
       "<style scoped>\n",
       "    .dataframe tbody tr th:only-of-type {\n",
       "        vertical-align: middle;\n",
       "    }\n",
       "\n",
       "    .dataframe tbody tr th {\n",
       "        vertical-align: top;\n",
       "    }\n",
       "\n",
       "    .dataframe thead th {\n",
       "        text-align: right;\n",
       "    }\n",
       "</style>\n",
       "<table border=\"1\" class=\"dataframe\">\n",
       "  <thead>\n",
       "    <tr style=\"text-align: right;\">\n",
       "      <th></th>\n",
       "      <th>longitude</th>\n",
       "      <th>latitude</th>\n",
       "      <th>housing_median_age</th>\n",
       "      <th>total_rooms</th>\n",
       "      <th>total_bedrooms</th>\n",
       "      <th>population</th>\n",
       "      <th>households</th>\n",
       "      <th>median_income</th>\n",
       "    </tr>\n",
       "  </thead>\n",
       "  <tbody>\n",
       "    <tr>\n",
       "      <th>17606</th>\n",
       "      <td>-121.89</td>\n",
       "      <td>37.29</td>\n",
       "      <td>38.0</td>\n",
       "      <td>1568.0</td>\n",
       "      <td>351.0</td>\n",
       "      <td>710.0</td>\n",
       "      <td>339.0</td>\n",
       "      <td>2.7042</td>\n",
       "    </tr>\n",
       "    <tr>\n",
       "      <th>18632</th>\n",
       "      <td>-121.93</td>\n",
       "      <td>37.05</td>\n",
       "      <td>14.0</td>\n",
       "      <td>679.0</td>\n",
       "      <td>108.0</td>\n",
       "      <td>306.0</td>\n",
       "      <td>113.0</td>\n",
       "      <td>6.4214</td>\n",
       "    </tr>\n",
       "    <tr>\n",
       "      <th>14650</th>\n",
       "      <td>-117.20</td>\n",
       "      <td>32.77</td>\n",
       "      <td>31.0</td>\n",
       "      <td>1952.0</td>\n",
       "      <td>471.0</td>\n",
       "      <td>936.0</td>\n",
       "      <td>462.0</td>\n",
       "      <td>2.8621</td>\n",
       "    </tr>\n",
       "    <tr>\n",
       "      <th>3230</th>\n",
       "      <td>-119.61</td>\n",
       "      <td>36.31</td>\n",
       "      <td>25.0</td>\n",
       "      <td>1847.0</td>\n",
       "      <td>371.0</td>\n",
       "      <td>1460.0</td>\n",
       "      <td>353.0</td>\n",
       "      <td>1.8839</td>\n",
       "    </tr>\n",
       "    <tr>\n",
       "      <th>3555</th>\n",
       "      <td>-118.59</td>\n",
       "      <td>34.23</td>\n",
       "      <td>17.0</td>\n",
       "      <td>6592.0</td>\n",
       "      <td>1525.0</td>\n",
       "      <td>4459.0</td>\n",
       "      <td>1463.0</td>\n",
       "      <td>3.0347</td>\n",
       "    </tr>\n",
       "    <tr>\n",
       "      <th>...</th>\n",
       "      <td>...</td>\n",
       "      <td>...</td>\n",
       "      <td>...</td>\n",
       "      <td>...</td>\n",
       "      <td>...</td>\n",
       "      <td>...</td>\n",
       "      <td>...</td>\n",
       "      <td>...</td>\n",
       "    </tr>\n",
       "    <tr>\n",
       "      <th>6563</th>\n",
       "      <td>-118.13</td>\n",
       "      <td>34.20</td>\n",
       "      <td>46.0</td>\n",
       "      <td>1271.0</td>\n",
       "      <td>236.0</td>\n",
       "      <td>573.0</td>\n",
       "      <td>210.0</td>\n",
       "      <td>4.9312</td>\n",
       "    </tr>\n",
       "    <tr>\n",
       "      <th>12053</th>\n",
       "      <td>-117.56</td>\n",
       "      <td>33.88</td>\n",
       "      <td>40.0</td>\n",
       "      <td>1196.0</td>\n",
       "      <td>294.0</td>\n",
       "      <td>1052.0</td>\n",
       "      <td>258.0</td>\n",
       "      <td>2.0682</td>\n",
       "    </tr>\n",
       "    <tr>\n",
       "      <th>13908</th>\n",
       "      <td>-116.40</td>\n",
       "      <td>34.09</td>\n",
       "      <td>9.0</td>\n",
       "      <td>4855.0</td>\n",
       "      <td>872.0</td>\n",
       "      <td>2098.0</td>\n",
       "      <td>765.0</td>\n",
       "      <td>3.2723</td>\n",
       "    </tr>\n",
       "    <tr>\n",
       "      <th>11159</th>\n",
       "      <td>-118.01</td>\n",
       "      <td>33.82</td>\n",
       "      <td>31.0</td>\n",
       "      <td>1960.0</td>\n",
       "      <td>380.0</td>\n",
       "      <td>1356.0</td>\n",
       "      <td>356.0</td>\n",
       "      <td>4.0625</td>\n",
       "    </tr>\n",
       "    <tr>\n",
       "      <th>15775</th>\n",
       "      <td>-122.45</td>\n",
       "      <td>37.77</td>\n",
       "      <td>52.0</td>\n",
       "      <td>3095.0</td>\n",
       "      <td>682.0</td>\n",
       "      <td>1269.0</td>\n",
       "      <td>639.0</td>\n",
       "      <td>3.5750</td>\n",
       "    </tr>\n",
       "  </tbody>\n",
       "</table>\n",
       "<p>16512 rows × 8 columns</p>\n",
       "</div>"
      ],
      "text/plain": [
       "       longitude  latitude  housing_median_age  total_rooms  total_bedrooms  \\\n",
       "17606    -121.89     37.29                38.0       1568.0           351.0   \n",
       "18632    -121.93     37.05                14.0        679.0           108.0   \n",
       "14650    -117.20     32.77                31.0       1952.0           471.0   \n",
       "3230     -119.61     36.31                25.0       1847.0           371.0   \n",
       "3555     -118.59     34.23                17.0       6592.0          1525.0   \n",
       "...          ...       ...                 ...          ...             ...   \n",
       "6563     -118.13     34.20                46.0       1271.0           236.0   \n",
       "12053    -117.56     33.88                40.0       1196.0           294.0   \n",
       "13908    -116.40     34.09                 9.0       4855.0           872.0   \n",
       "11159    -118.01     33.82                31.0       1960.0           380.0   \n",
       "15775    -122.45     37.77                52.0       3095.0           682.0   \n",
       "\n",
       "       population  households  median_income  \n",
       "17606       710.0       339.0         2.7042  \n",
       "18632       306.0       113.0         6.4214  \n",
       "14650       936.0       462.0         2.8621  \n",
       "3230       1460.0       353.0         1.8839  \n",
       "3555       4459.0      1463.0         3.0347  \n",
       "...           ...         ...            ...  \n",
       "6563        573.0       210.0         4.9312  \n",
       "12053      1052.0       258.0         2.0682  \n",
       "13908      2098.0       765.0         3.2723  \n",
       "11159      1356.0       356.0         4.0625  \n",
       "15775      1269.0       639.0         3.5750  \n",
       "\n",
       "[16512 rows x 8 columns]"
      ]
     },
     "execution_count": 45,
     "metadata": {},
     "output_type": "execute_result"
    }
   ],
   "source": [
    "housing_num"
   ]
  },
  {
   "cell_type": "code",
   "execution_count": 46,
   "metadata": {},
   "outputs": [
    {
     "data": {
      "text/html": [
       "<div>\n",
       "<style scoped>\n",
       "    .dataframe tbody tr th:only-of-type {\n",
       "        vertical-align: middle;\n",
       "    }\n",
       "\n",
       "    .dataframe tbody tr th {\n",
       "        vertical-align: top;\n",
       "    }\n",
       "\n",
       "    .dataframe thead th {\n",
       "        text-align: right;\n",
       "    }\n",
       "</style>\n",
       "<table border=\"1\" class=\"dataframe\">\n",
       "  <thead>\n",
       "    <tr style=\"text-align: right;\">\n",
       "      <th></th>\n",
       "      <th>longitude</th>\n",
       "      <th>latitude</th>\n",
       "      <th>housing_median_age</th>\n",
       "      <th>total_rooms</th>\n",
       "      <th>total_bedrooms</th>\n",
       "      <th>population</th>\n",
       "      <th>households</th>\n",
       "      <th>median_income</th>\n",
       "      <th>rooms_per_household</th>\n",
       "      <th>population_per_household</th>\n",
       "      <th>bedrooms_per_room</th>\n",
       "    </tr>\n",
       "  </thead>\n",
       "  <tbody>\n",
       "    <tr>\n",
       "      <th>17606</th>\n",
       "      <td>-1.156043</td>\n",
       "      <td>0.771950</td>\n",
       "      <td>0.743331</td>\n",
       "      <td>-0.493234</td>\n",
       "      <td>-0.445438</td>\n",
       "      <td>-0.636211</td>\n",
       "      <td>-0.420698</td>\n",
       "      <td>-0.614937</td>\n",
       "      <td>-0.312055</td>\n",
       "      <td>-0.086499</td>\n",
       "      <td>0.155318</td>\n",
       "    </tr>\n",
       "    <tr>\n",
       "      <th>18632</th>\n",
       "      <td>-1.176025</td>\n",
       "      <td>0.659695</td>\n",
       "      <td>-1.165317</td>\n",
       "      <td>-0.908967</td>\n",
       "      <td>-1.036928</td>\n",
       "      <td>-0.998331</td>\n",
       "      <td>-1.022227</td>\n",
       "      <td>1.336459</td>\n",
       "      <td>0.217683</td>\n",
       "      <td>-0.033534</td>\n",
       "      <td>-0.836289</td>\n",
       "    </tr>\n",
       "    <tr>\n",
       "      <th>14650</th>\n",
       "      <td>1.186849</td>\n",
       "      <td>-1.342183</td>\n",
       "      <td>0.186642</td>\n",
       "      <td>-0.313660</td>\n",
       "      <td>-0.153345</td>\n",
       "      <td>-0.433639</td>\n",
       "      <td>-0.093318</td>\n",
       "      <td>-0.532046</td>\n",
       "      <td>-0.465315</td>\n",
       "      <td>-0.092405</td>\n",
       "      <td>0.422200</td>\n",
       "    </tr>\n",
       "    <tr>\n",
       "      <th>3230</th>\n",
       "      <td>-0.017068</td>\n",
       "      <td>0.313576</td>\n",
       "      <td>-0.290520</td>\n",
       "      <td>-0.362762</td>\n",
       "      <td>-0.396756</td>\n",
       "      <td>0.036041</td>\n",
       "      <td>-0.383436</td>\n",
       "      <td>-1.045566</td>\n",
       "      <td>-0.079661</td>\n",
       "      <td>0.089736</td>\n",
       "      <td>-0.196453</td>\n",
       "    </tr>\n",
       "    <tr>\n",
       "      <th>3555</th>\n",
       "      <td>0.492474</td>\n",
       "      <td>-0.659299</td>\n",
       "      <td>-0.926736</td>\n",
       "      <td>1.856193</td>\n",
       "      <td>2.412211</td>\n",
       "      <td>2.724154</td>\n",
       "      <td>2.570975</td>\n",
       "      <td>-0.441437</td>\n",
       "      <td>-0.357834</td>\n",
       "      <td>-0.004194</td>\n",
       "      <td>0.269928</td>\n",
       "    </tr>\n",
       "    <tr>\n",
       "      <th>...</th>\n",
       "      <td>...</td>\n",
       "      <td>...</td>\n",
       "      <td>...</td>\n",
       "      <td>...</td>\n",
       "      <td>...</td>\n",
       "      <td>...</td>\n",
       "      <td>...</td>\n",
       "      <td>...</td>\n",
       "      <td>...</td>\n",
       "      <td>...</td>\n",
       "      <td>...</td>\n",
       "    </tr>\n",
       "    <tr>\n",
       "      <th>6563</th>\n",
       "      <td>0.722267</td>\n",
       "      <td>-0.673331</td>\n",
       "      <td>1.379547</td>\n",
       "      <td>-0.632123</td>\n",
       "      <td>-0.725361</td>\n",
       "      <td>-0.759010</td>\n",
       "      <td>-0.764049</td>\n",
       "      <td>0.554158</td>\n",
       "      <td>0.234352</td>\n",
       "      <td>-0.031755</td>\n",
       "      <td>-0.428853</td>\n",
       "    </tr>\n",
       "    <tr>\n",
       "      <th>12053</th>\n",
       "      <td>1.007011</td>\n",
       "      <td>-0.823004</td>\n",
       "      <td>0.902385</td>\n",
       "      <td>-0.667196</td>\n",
       "      <td>-0.584183</td>\n",
       "      <td>-0.329664</td>\n",
       "      <td>-0.636291</td>\n",
       "      <td>-0.948815</td>\n",
       "      <td>-0.308114</td>\n",
       "      <td>0.084689</td>\n",
       "      <td>0.491503</td>\n",
       "    </tr>\n",
       "    <tr>\n",
       "      <th>13908</th>\n",
       "      <td>1.586489</td>\n",
       "      <td>-0.724781</td>\n",
       "      <td>-1.562952</td>\n",
       "      <td>1.043901</td>\n",
       "      <td>0.822735</td>\n",
       "      <td>0.607904</td>\n",
       "      <td>0.713156</td>\n",
       "      <td>-0.316705</td>\n",
       "      <td>0.346934</td>\n",
       "      <td>-0.030554</td>\n",
       "      <td>-0.521776</td>\n",
       "    </tr>\n",
       "    <tr>\n",
       "      <th>11159</th>\n",
       "      <td>0.782213</td>\n",
       "      <td>-0.851068</td>\n",
       "      <td>0.186642</td>\n",
       "      <td>-0.309919</td>\n",
       "      <td>-0.374849</td>\n",
       "      <td>-0.057178</td>\n",
       "      <td>-0.375451</td>\n",
       "      <td>0.098121</td>\n",
       "      <td>0.024995</td>\n",
       "      <td>0.061509</td>\n",
       "      <td>-0.303407</td>\n",
       "    </tr>\n",
       "    <tr>\n",
       "      <th>15775</th>\n",
       "      <td>-1.435791</td>\n",
       "      <td>0.996459</td>\n",
       "      <td>1.856709</td>\n",
       "      <td>0.220853</td>\n",
       "      <td>0.360253</td>\n",
       "      <td>-0.135159</td>\n",
       "      <td>0.377791</td>\n",
       "      <td>-0.157799</td>\n",
       "      <td>-0.228529</td>\n",
       "      <td>-0.095863</td>\n",
       "      <td>0.101806</td>\n",
       "    </tr>\n",
       "  </tbody>\n",
       "</table>\n",
       "<p>16512 rows × 11 columns</p>\n",
       "</div>"
      ],
      "text/plain": [
       "       longitude  latitude  housing_median_age  total_rooms  total_bedrooms  \\\n",
       "17606  -1.156043  0.771950            0.743331    -0.493234       -0.445438   \n",
       "18632  -1.176025  0.659695           -1.165317    -0.908967       -1.036928   \n",
       "14650   1.186849 -1.342183            0.186642    -0.313660       -0.153345   \n",
       "3230   -0.017068  0.313576           -0.290520    -0.362762       -0.396756   \n",
       "3555    0.492474 -0.659299           -0.926736     1.856193        2.412211   \n",
       "...          ...       ...                 ...          ...             ...   \n",
       "6563    0.722267 -0.673331            1.379547    -0.632123       -0.725361   \n",
       "12053   1.007011 -0.823004            0.902385    -0.667196       -0.584183   \n",
       "13908   1.586489 -0.724781           -1.562952     1.043901        0.822735   \n",
       "11159   0.782213 -0.851068            0.186642    -0.309919       -0.374849   \n",
       "15775  -1.435791  0.996459            1.856709     0.220853        0.360253   \n",
       "\n",
       "       population  households  median_income  rooms_per_household  \\\n",
       "17606   -0.636211   -0.420698      -0.614937            -0.312055   \n",
       "18632   -0.998331   -1.022227       1.336459             0.217683   \n",
       "14650   -0.433639   -0.093318      -0.532046            -0.465315   \n",
       "3230     0.036041   -0.383436      -1.045566            -0.079661   \n",
       "3555     2.724154    2.570975      -0.441437            -0.357834   \n",
       "...           ...         ...            ...                  ...   \n",
       "6563    -0.759010   -0.764049       0.554158             0.234352   \n",
       "12053   -0.329664   -0.636291      -0.948815            -0.308114   \n",
       "13908    0.607904    0.713156      -0.316705             0.346934   \n",
       "11159   -0.057178   -0.375451       0.098121             0.024995   \n",
       "15775   -0.135159    0.377791      -0.157799            -0.228529   \n",
       "\n",
       "       population_per_household  bedrooms_per_room  \n",
       "17606                 -0.086499           0.155318  \n",
       "18632                 -0.033534          -0.836289  \n",
       "14650                 -0.092405           0.422200  \n",
       "3230                   0.089736          -0.196453  \n",
       "3555                  -0.004194           0.269928  \n",
       "...                         ...                ...  \n",
       "6563                  -0.031755          -0.428853  \n",
       "12053                  0.084689           0.491503  \n",
       "13908                 -0.030554          -0.521776  \n",
       "11159                  0.061509          -0.303407  \n",
       "15775                 -0.095863           0.101806  \n",
       "\n",
       "[16512 rows x 11 columns]"
      ]
     },
     "execution_count": 46,
     "metadata": {},
     "output_type": "execute_result"
    }
   ],
   "source": [
    "from sklearn.pipeline import Pipeline\n",
    "from sklearn.preprocessing import StandardScaler\n",
    "\n",
    "num_pipeline = Pipeline([\n",
    "        ('imputer', SimpleImputer(strategy=\"median\")),\n",
    "        ('attr_adder', CombinedAttributesAdder(True)),\n",
    "        ('std_scaler', StandardScaler()),\n",
    "    ])\n",
    "\n",
    "housing_num_tr = num_pipeline.fit_transform(housing_num)\n",
    "cols = list(housing_num.columns)\n",
    "cols.extend(['rooms_per_household', 'population_per_household', 'bedrooms_per_room'])\n",
    "pd.DataFrame(housing_num_tr, columns = cols, index = housing_num.index)"
   ]
  },
  {
   "cell_type": "markdown",
   "metadata": {},
   "source": [
    "<b>Column Transformer</b>\n",
    "\n",
    "Transform each attribute with one transformer"
   ]
  },
  {
   "cell_type": "code",
   "execution_count": 47,
   "metadata": {
    "scrolled": false
   },
   "outputs": [
    {
     "data": {
      "text/html": [
       "<div>\n",
       "<style scoped>\n",
       "    .dataframe tbody tr th:only-of-type {\n",
       "        vertical-align: middle;\n",
       "    }\n",
       "\n",
       "    .dataframe tbody tr th {\n",
       "        vertical-align: top;\n",
       "    }\n",
       "\n",
       "    .dataframe thead th {\n",
       "        text-align: right;\n",
       "    }\n",
       "</style>\n",
       "<table border=\"1\" class=\"dataframe\">\n",
       "  <thead>\n",
       "    <tr style=\"text-align: right;\">\n",
       "      <th></th>\n",
       "      <th>longitude</th>\n",
       "      <th>latitude</th>\n",
       "      <th>housing_median_age</th>\n",
       "      <th>total_rooms</th>\n",
       "      <th>total_bedrooms</th>\n",
       "      <th>population</th>\n",
       "      <th>households</th>\n",
       "      <th>median_income</th>\n",
       "      <th>rooms_per_household</th>\n",
       "      <th>population_per_household</th>\n",
       "      <th>bedrooms_per_room</th>\n",
       "      <th>&lt;1H OCEAN</th>\n",
       "      <th>INLAND</th>\n",
       "      <th>ISLAND</th>\n",
       "      <th>NEAR BAY</th>\n",
       "      <th>NEAR OCEAN</th>\n",
       "    </tr>\n",
       "  </thead>\n",
       "  <tbody>\n",
       "    <tr>\n",
       "      <th>17606</th>\n",
       "      <td>-1.156043</td>\n",
       "      <td>0.771950</td>\n",
       "      <td>0.743331</td>\n",
       "      <td>-0.493234</td>\n",
       "      <td>-0.445438</td>\n",
       "      <td>-0.636211</td>\n",
       "      <td>-0.420698</td>\n",
       "      <td>-0.614937</td>\n",
       "      <td>-0.312055</td>\n",
       "      <td>-0.086499</td>\n",
       "      <td>0.155318</td>\n",
       "      <td>1.0</td>\n",
       "      <td>0.0</td>\n",
       "      <td>0.0</td>\n",
       "      <td>0.0</td>\n",
       "      <td>0.0</td>\n",
       "    </tr>\n",
       "    <tr>\n",
       "      <th>18632</th>\n",
       "      <td>-1.176025</td>\n",
       "      <td>0.659695</td>\n",
       "      <td>-1.165317</td>\n",
       "      <td>-0.908967</td>\n",
       "      <td>-1.036928</td>\n",
       "      <td>-0.998331</td>\n",
       "      <td>-1.022227</td>\n",
       "      <td>1.336459</td>\n",
       "      <td>0.217683</td>\n",
       "      <td>-0.033534</td>\n",
       "      <td>-0.836289</td>\n",
       "      <td>1.0</td>\n",
       "      <td>0.0</td>\n",
       "      <td>0.0</td>\n",
       "      <td>0.0</td>\n",
       "      <td>0.0</td>\n",
       "    </tr>\n",
       "    <tr>\n",
       "      <th>14650</th>\n",
       "      <td>1.186849</td>\n",
       "      <td>-1.342183</td>\n",
       "      <td>0.186642</td>\n",
       "      <td>-0.313660</td>\n",
       "      <td>-0.153345</td>\n",
       "      <td>-0.433639</td>\n",
       "      <td>-0.093318</td>\n",
       "      <td>-0.532046</td>\n",
       "      <td>-0.465315</td>\n",
       "      <td>-0.092405</td>\n",
       "      <td>0.422200</td>\n",
       "      <td>0.0</td>\n",
       "      <td>0.0</td>\n",
       "      <td>0.0</td>\n",
       "      <td>0.0</td>\n",
       "      <td>1.0</td>\n",
       "    </tr>\n",
       "    <tr>\n",
       "      <th>3230</th>\n",
       "      <td>-0.017068</td>\n",
       "      <td>0.313576</td>\n",
       "      <td>-0.290520</td>\n",
       "      <td>-0.362762</td>\n",
       "      <td>-0.396756</td>\n",
       "      <td>0.036041</td>\n",
       "      <td>-0.383436</td>\n",
       "      <td>-1.045566</td>\n",
       "      <td>-0.079661</td>\n",
       "      <td>0.089736</td>\n",
       "      <td>-0.196453</td>\n",
       "      <td>0.0</td>\n",
       "      <td>1.0</td>\n",
       "      <td>0.0</td>\n",
       "      <td>0.0</td>\n",
       "      <td>0.0</td>\n",
       "    </tr>\n",
       "    <tr>\n",
       "      <th>3555</th>\n",
       "      <td>0.492474</td>\n",
       "      <td>-0.659299</td>\n",
       "      <td>-0.926736</td>\n",
       "      <td>1.856193</td>\n",
       "      <td>2.412211</td>\n",
       "      <td>2.724154</td>\n",
       "      <td>2.570975</td>\n",
       "      <td>-0.441437</td>\n",
       "      <td>-0.357834</td>\n",
       "      <td>-0.004194</td>\n",
       "      <td>0.269928</td>\n",
       "      <td>1.0</td>\n",
       "      <td>0.0</td>\n",
       "      <td>0.0</td>\n",
       "      <td>0.0</td>\n",
       "      <td>0.0</td>\n",
       "    </tr>\n",
       "    <tr>\n",
       "      <th>...</th>\n",
       "      <td>...</td>\n",
       "      <td>...</td>\n",
       "      <td>...</td>\n",
       "      <td>...</td>\n",
       "      <td>...</td>\n",
       "      <td>...</td>\n",
       "      <td>...</td>\n",
       "      <td>...</td>\n",
       "      <td>...</td>\n",
       "      <td>...</td>\n",
       "      <td>...</td>\n",
       "      <td>...</td>\n",
       "      <td>...</td>\n",
       "      <td>...</td>\n",
       "      <td>...</td>\n",
       "      <td>...</td>\n",
       "    </tr>\n",
       "    <tr>\n",
       "      <th>6563</th>\n",
       "      <td>0.722267</td>\n",
       "      <td>-0.673331</td>\n",
       "      <td>1.379547</td>\n",
       "      <td>-0.632123</td>\n",
       "      <td>-0.725361</td>\n",
       "      <td>-0.759010</td>\n",
       "      <td>-0.764049</td>\n",
       "      <td>0.554158</td>\n",
       "      <td>0.234352</td>\n",
       "      <td>-0.031755</td>\n",
       "      <td>-0.428853</td>\n",
       "      <td>0.0</td>\n",
       "      <td>1.0</td>\n",
       "      <td>0.0</td>\n",
       "      <td>0.0</td>\n",
       "      <td>0.0</td>\n",
       "    </tr>\n",
       "    <tr>\n",
       "      <th>12053</th>\n",
       "      <td>1.007011</td>\n",
       "      <td>-0.823004</td>\n",
       "      <td>0.902385</td>\n",
       "      <td>-0.667196</td>\n",
       "      <td>-0.584183</td>\n",
       "      <td>-0.329664</td>\n",
       "      <td>-0.636291</td>\n",
       "      <td>-0.948815</td>\n",
       "      <td>-0.308114</td>\n",
       "      <td>0.084689</td>\n",
       "      <td>0.491503</td>\n",
       "      <td>0.0</td>\n",
       "      <td>1.0</td>\n",
       "      <td>0.0</td>\n",
       "      <td>0.0</td>\n",
       "      <td>0.0</td>\n",
       "    </tr>\n",
       "    <tr>\n",
       "      <th>13908</th>\n",
       "      <td>1.586489</td>\n",
       "      <td>-0.724781</td>\n",
       "      <td>-1.562952</td>\n",
       "      <td>1.043901</td>\n",
       "      <td>0.822735</td>\n",
       "      <td>0.607904</td>\n",
       "      <td>0.713156</td>\n",
       "      <td>-0.316705</td>\n",
       "      <td>0.346934</td>\n",
       "      <td>-0.030554</td>\n",
       "      <td>-0.521776</td>\n",
       "      <td>0.0</td>\n",
       "      <td>1.0</td>\n",
       "      <td>0.0</td>\n",
       "      <td>0.0</td>\n",
       "      <td>0.0</td>\n",
       "    </tr>\n",
       "    <tr>\n",
       "      <th>11159</th>\n",
       "      <td>0.782213</td>\n",
       "      <td>-0.851068</td>\n",
       "      <td>0.186642</td>\n",
       "      <td>-0.309919</td>\n",
       "      <td>-0.374849</td>\n",
       "      <td>-0.057178</td>\n",
       "      <td>-0.375451</td>\n",
       "      <td>0.098121</td>\n",
       "      <td>0.024995</td>\n",
       "      <td>0.061509</td>\n",
       "      <td>-0.303407</td>\n",
       "      <td>1.0</td>\n",
       "      <td>0.0</td>\n",
       "      <td>0.0</td>\n",
       "      <td>0.0</td>\n",
       "      <td>0.0</td>\n",
       "    </tr>\n",
       "    <tr>\n",
       "      <th>15775</th>\n",
       "      <td>-1.435791</td>\n",
       "      <td>0.996459</td>\n",
       "      <td>1.856709</td>\n",
       "      <td>0.220853</td>\n",
       "      <td>0.360253</td>\n",
       "      <td>-0.135159</td>\n",
       "      <td>0.377791</td>\n",
       "      <td>-0.157799</td>\n",
       "      <td>-0.228529</td>\n",
       "      <td>-0.095863</td>\n",
       "      <td>0.101806</td>\n",
       "      <td>0.0</td>\n",
       "      <td>0.0</td>\n",
       "      <td>0.0</td>\n",
       "      <td>1.0</td>\n",
       "      <td>0.0</td>\n",
       "    </tr>\n",
       "  </tbody>\n",
       "</table>\n",
       "<p>16512 rows × 16 columns</p>\n",
       "</div>"
      ],
      "text/plain": [
       "       longitude  latitude  housing_median_age  total_rooms  total_bedrooms  \\\n",
       "17606  -1.156043  0.771950            0.743331    -0.493234       -0.445438   \n",
       "18632  -1.176025  0.659695           -1.165317    -0.908967       -1.036928   \n",
       "14650   1.186849 -1.342183            0.186642    -0.313660       -0.153345   \n",
       "3230   -0.017068  0.313576           -0.290520    -0.362762       -0.396756   \n",
       "3555    0.492474 -0.659299           -0.926736     1.856193        2.412211   \n",
       "...          ...       ...                 ...          ...             ...   \n",
       "6563    0.722267 -0.673331            1.379547    -0.632123       -0.725361   \n",
       "12053   1.007011 -0.823004            0.902385    -0.667196       -0.584183   \n",
       "13908   1.586489 -0.724781           -1.562952     1.043901        0.822735   \n",
       "11159   0.782213 -0.851068            0.186642    -0.309919       -0.374849   \n",
       "15775  -1.435791  0.996459            1.856709     0.220853        0.360253   \n",
       "\n",
       "       population  households  median_income  rooms_per_household  \\\n",
       "17606   -0.636211   -0.420698      -0.614937            -0.312055   \n",
       "18632   -0.998331   -1.022227       1.336459             0.217683   \n",
       "14650   -0.433639   -0.093318      -0.532046            -0.465315   \n",
       "3230     0.036041   -0.383436      -1.045566            -0.079661   \n",
       "3555     2.724154    2.570975      -0.441437            -0.357834   \n",
       "...           ...         ...            ...                  ...   \n",
       "6563    -0.759010   -0.764049       0.554158             0.234352   \n",
       "12053   -0.329664   -0.636291      -0.948815            -0.308114   \n",
       "13908    0.607904    0.713156      -0.316705             0.346934   \n",
       "11159   -0.057178   -0.375451       0.098121             0.024995   \n",
       "15775   -0.135159    0.377791      -0.157799            -0.228529   \n",
       "\n",
       "       population_per_household  bedrooms_per_room  <1H OCEAN  INLAND  ISLAND  \\\n",
       "17606                 -0.086499           0.155318        1.0     0.0     0.0   \n",
       "18632                 -0.033534          -0.836289        1.0     0.0     0.0   \n",
       "14650                 -0.092405           0.422200        0.0     0.0     0.0   \n",
       "3230                   0.089736          -0.196453        0.0     1.0     0.0   \n",
       "3555                  -0.004194           0.269928        1.0     0.0     0.0   \n",
       "...                         ...                ...        ...     ...     ...   \n",
       "6563                  -0.031755          -0.428853        0.0     1.0     0.0   \n",
       "12053                  0.084689           0.491503        0.0     1.0     0.0   \n",
       "13908                 -0.030554          -0.521776        0.0     1.0     0.0   \n",
       "11159                  0.061509          -0.303407        1.0     0.0     0.0   \n",
       "15775                 -0.095863           0.101806        0.0     0.0     0.0   \n",
       "\n",
       "       NEAR BAY  NEAR OCEAN  \n",
       "17606       0.0         0.0  \n",
       "18632       0.0         0.0  \n",
       "14650       0.0         1.0  \n",
       "3230        0.0         0.0  \n",
       "3555        0.0         0.0  \n",
       "...         ...         ...  \n",
       "6563        0.0         0.0  \n",
       "12053       0.0         0.0  \n",
       "13908       0.0         0.0  \n",
       "11159       0.0         0.0  \n",
       "15775       1.0         0.0  \n",
       "\n",
       "[16512 rows x 16 columns]"
      ]
     },
     "execution_count": 47,
     "metadata": {},
     "output_type": "execute_result"
    }
   ],
   "source": [
    "from sklearn.compose import ColumnTransformer\n",
    "\n",
    "num_attrs = list(housing_num)\n",
    "cat_attrs = ['ocean_proximity']\n",
    "\n",
    "full_pipeline = ColumnTransformer([\n",
    "        ('num_trns', num_pipeline, num_attrs),\n",
    "        ('cat_trns', OneHotEncoder(), cat_attrs)        \n",
    "    ])\n",
    "\n",
    "transformed = full_pipeline.fit_transform(housing)\n",
    "cols = list(housing_num.columns) #onehot encoding will eliminate the 'ocean proximity' attr\n",
    "cols.extend(['rooms_per_household', 'population_per_household', 'bedrooms_per_room'])\n",
    "cols.extend(list(onehot_enc.categories_[0]))\n",
    "housing_prepared = pd.DataFrame(transformed, columns = cols, index = housing.index)\n",
    "housing_prepared"
   ]
  },
  {
   "cell_type": "markdown",
   "metadata": {},
   "source": [
    "## Model Selection and Training\n",
    "### First Trial"
   ]
  },
  {
   "cell_type": "code",
   "execution_count": 48,
   "metadata": {},
   "outputs": [
    {
     "data": {
      "text/plain": [
       "LinearRegression(copy_X=True, fit_intercept=True, n_jobs=None, normalize=False)"
      ]
     },
     "execution_count": 48,
     "metadata": {},
     "output_type": "execute_result"
    }
   ],
   "source": [
    "from sklearn.linear_model import LinearRegression\n",
    "\n",
    "lin_reg = LinearRegression()\n",
    "lin_reg.fit(housing_prepared, housing_labels)"
   ]
  },
  {
   "cell_type": "code",
   "execution_count": 49,
   "metadata": {},
   "outputs": [
    {
     "name": "stdout",
     "output_type": "stream",
     "text": [
      "Prediction Result is [210644.60459286 317768.80697211 210956.43331178  59218.98886849\n",
      " 189747.55849879]\n",
      "Label is [286600.0, 340600.0, 196900.0, 46300.0, 254500.0]\n"
     ]
    }
   ],
   "source": [
    "some_data = housing.iloc[:5]\n",
    "some_prepared = full_pipeline.transform(some_data)\n",
    "some_labels = housing_labels.iloc[:5]\n",
    "print('Prediction Result is {0}'.format(lin_reg.predict(some_prepared)))\n",
    "print('Label is {0}'.format(list(some_labels)))"
   ]
  },
  {
   "cell_type": "code",
   "execution_count": 50,
   "metadata": {},
   "outputs": [
    {
     "data": {
      "text/plain": [
       "68628.19819848923"
      ]
     },
     "execution_count": 50,
     "metadata": {},
     "output_type": "execute_result"
    }
   ],
   "source": [
    "from sklearn.metrics import mean_squared_error\n",
    "housing_predictions = lin_reg.predict(housing_prepared)\n",
    "lin_mse = mean_squared_error(housing_labels, housing_predictions)\n",
    "lin_rmse = np.sqrt(lin_mse)\n",
    "lin_rmse"
   ]
  },
  {
   "cell_type": "markdown",
   "metadata": {},
   "source": [
    "Since most of meidan_house_value is between 120,000 and 265,000, this rmse is not that good. This is a kink of <b>underfitting</b>. Then, second trial should be one of \n",
    "1. more powerful model\n",
    "2. add good attribute\n",
    "3. less regularization"
   ]
  },
  {
   "cell_type": "markdown",
   "metadata": {},
   "source": [
    "### Second Trial\n",
    "<b> more pwerful model</b>"
   ]
  },
  {
   "cell_type": "code",
   "execution_count": 51,
   "metadata": {},
   "outputs": [
    {
     "data": {
      "text/plain": [
       "DecisionTreeRegressor(ccp_alpha=0.0, criterion='mse', max_depth=None,\n",
       "                      max_features=None, max_leaf_nodes=None,\n",
       "                      min_impurity_decrease=0.0, min_impurity_split=None,\n",
       "                      min_samples_leaf=1, min_samples_split=2,\n",
       "                      min_weight_fraction_leaf=0.0, presort='deprecated',\n",
       "                      random_state=None, splitter='best')"
      ]
     },
     "execution_count": 51,
     "metadata": {},
     "output_type": "execute_result"
    }
   ],
   "source": [
    "from sklearn.tree import DecisionTreeRegressor\n",
    "\n",
    "tree_reg = DecisionTreeRegressor()\n",
    "tree_reg.fit(housing_prepared, housing_labels)"
   ]
  },
  {
   "cell_type": "code",
   "execution_count": 52,
   "metadata": {},
   "outputs": [
    {
     "data": {
      "text/plain": [
       "0.0"
      ]
     },
     "execution_count": 52,
     "metadata": {},
     "output_type": "execute_result"
    }
   ],
   "source": [
    "tree_prediction = tree_reg.predict(housing_prepared)\n",
    "tree_mse = mean_squared_error(housing_labels, tree_prediction)\n",
    "tree_rmse = np.sqrt(tree_mse)\n",
    "tree_rmse"
   ]
  },
  {
   "cell_type": "markdown",
   "metadata": {},
   "source": [
    "We need to test the predictibility of the model by using valid set instead of train set"
   ]
  },
  {
   "cell_type": "code",
   "execution_count": 53,
   "metadata": {},
   "outputs": [
    {
     "data": {
      "text/plain": [
       "array([68748.65328488, 66184.53350097, 70968.3985945 , 69026.97303913,\n",
       "       70924.96306909, 75710.77710286, 71564.32256791, 70734.82503582,\n",
       "       75686.09187461, 69444.33232096])"
      ]
     },
     "execution_count": 53,
     "metadata": {},
     "output_type": "execute_result"
    }
   ],
   "source": [
    "from sklearn.model_selection import cross_val_score\n",
    "\n",
    "scores = cross_val_score(tree_reg, housing_prepared, housing_labels,\n",
    "                        scoring = 'neg_mean_squared_error', cv = 10)\n",
    "tree_rmse_scores = np.sqrt(-scores)\n",
    "tree_rmse_scores"
   ]
  },
  {
   "cell_type": "code",
   "execution_count": 54,
   "metadata": {},
   "outputs": [
    {
     "name": "stdout",
     "output_type": "stream",
     "text": [
      "rmse of traing set is 0.0\n",
      "score: [68748.65328488 66184.53350097 70968.3985945  69026.97303913\n",
      " 70924.96306909 75710.77710286 71564.32256791 70734.82503582\n",
      " 75686.09187461 69444.33232096]\n",
      "mean: 70899.38703907376\n",
      "std: 2810.965530810978\n"
     ]
    }
   ],
   "source": [
    "def display_score(scores):\n",
    "    print('score: {0}'.format(scores))\n",
    "    print('mean: {0}'.format(scores.mean()))\n",
    "    print('std: {0}'.format(scores.std()))\n",
    "\n",
    "print('rmse of traing set is {0}'.format(tree_rmse))\n",
    "display_score(tree_rmse_scores)"
   ]
  },
  {
   "cell_type": "code",
   "execution_count": 55,
   "metadata": {},
   "outputs": [
    {
     "name": "stdout",
     "output_type": "stream",
     "text": [
      "rmse of traing set is 68628.19819848923\n",
      "score: [66782.73843989 66960.118071   70347.95244419 74739.57052552\n",
      " 68031.13388938 71193.84183426 64969.63056405 68281.61137997\n",
      " 71552.91566558 67665.10082067]\n",
      "mean: 69052.46136345083\n",
      "std: 2731.674001798346\n"
     ]
    }
   ],
   "source": [
    "lin_scores = cross_val_score(lin_reg, housing_prepared, housing_labels,\n",
    "                        scoring = 'neg_mean_squared_error', cv = 10)\n",
    "lin_rmse_scores = np.sqrt(-lin_scores)\n",
    "\n",
    "print('rmse of traing set is {0}'.format(lin_rmse))\n",
    "display_score(lin_rmse_scores)"
   ]
  },
  {
   "cell_type": "markdown",
   "metadata": {},
   "source": [
    "Since tree model is more overfitted than linear regression model, its mean is bigger than linear regression case."
   ]
  },
  {
   "cell_type": "code",
   "execution_count": 56,
   "metadata": {},
   "outputs": [
    {
     "name": "stdout",
     "output_type": "stream",
     "text": [
      "rmse of traing set is 18733.528822115895\n",
      "score: [49350.56185215 47372.67566903 49731.85609483 51918.58728574\n",
      " 49731.07183667 53442.1792041  48807.45491349 48110.79423366\n",
      " 53271.93890252 50292.25173643]\n",
      "mean: 50202.937172863094\n",
      "std: 1958.796158713124\n"
     ]
    }
   ],
   "source": [
    "from sklearn.ensemble import RandomForestRegressor\n",
    "\n",
    "forest_reg = RandomForestRegressor()\n",
    "forest_reg.fit(housing_prepared, housing_labels)\n",
    "forest_pred = forest_reg.predict(housing_prepared)\n",
    "forest_mse = mean_squared_error(housing_labels, forest_pred)\n",
    "forest_rmse = np.sqrt(forest_mse)\n",
    "\n",
    "forest_scores = cross_val_score(forest_reg, housing_prepared, housing_labels,\n",
    "                        scoring = 'neg_mean_squared_error', cv = 10)\n",
    "\n",
    "forest_rmse_scores = np.sqrt(-forest_scores)\n",
    "\n",
    "print('rmse of traing set is {0}'.format(forest_rmse))\n",
    "display_score(forest_rmse_scores)"
   ]
  },
  {
   "cell_type": "code",
   "execution_count": 57,
   "metadata": {},
   "outputs": [
    {
     "data": {
      "text/plain": [
       "111094.6308539982"
      ]
     },
     "execution_count": 57,
     "metadata": {},
     "output_type": "execute_result"
    }
   ],
   "source": [
    "from sklearn.svm import SVR\n",
    "\n",
    "svm_reg = SVR(kernel = 'linear')\n",
    "svm_reg.fit(housing_prepared, housing_labels)\n",
    "svm_pred = svm_reg.predict(housing_prepared)\n",
    "svm_rmse = mean_squared_error(housing_labels, svm_pred, squared = False)\n",
    "svm_rmse"
   ]
  },
  {
   "cell_type": "code",
   "execution_count": 58,
   "metadata": {},
   "outputs": [
    {
     "name": "stdout",
     "output_type": "stream",
     "text": [
      "rmse of traing set is 111094.6308539982\n",
      "score: [105342.09141998 112489.24624123 110092.35042753 113403.22892482\n",
      " 110638.90119657 115675.8320024  110703.56887243 114476.89008206\n",
      " 113756.17971227 111520.1120808 ]\n",
      "mean: 111809.84009600841\n",
      "std: 2762.393664321567\n"
     ]
    }
   ],
   "source": [
    "svm_scores = cross_val_score(svm_reg, housing_prepared, housing_labels, \n",
    "                            cv = 10, scoring = 'neg_mean_squared_error')\n",
    "svm_rmse_scores = np.sqrt(-svm_scores)\n",
    "\n",
    "print('rmse of traing set is {0}'.format(svm_rmse))\n",
    "display_score(svm_rmse_scores)"
   ]
  },
  {
   "cell_type": "markdown",
   "metadata": {},
   "source": [
    "Using pickle or joblib packages can help to save our models and parameters."
   ]
  },
  {
   "cell_type": "markdown",
   "metadata": {},
   "source": [
    "## Model Tuning\n",
    "After select some models, you need to tune these models.\n",
    "### GridSearch\n",
    "* Consider first cases: 'n_estimators': [3, 10, 30], 'max_features': [2, 4, 6, 8]\n",
    "* Then, consider scond cases: 'bootstrap': [False], 'n_estimators': [3, 10], 'max_features': [2, 3, 4]\n",
    "* the number of cases = the number of first cases (3\\*4) + the number of first cases (2\\*3) = 18\n",
    "since cv is 5, the number of trainings is 5* 18 = 90! "
   ]
  },
  {
   "cell_type": "code",
   "execution_count": 59,
   "metadata": {},
   "outputs": [
    {
     "data": {
      "text/plain": [
       "GridSearchCV(cv=5, error_score=nan,\n",
       "             estimator=RandomForestRegressor(bootstrap=True, ccp_alpha=0.0,\n",
       "                                             criterion='mse', max_depth=None,\n",
       "                                             max_features='auto',\n",
       "                                             max_leaf_nodes=None,\n",
       "                                             max_samples=None,\n",
       "                                             min_impurity_decrease=0.0,\n",
       "                                             min_impurity_split=None,\n",
       "                                             min_samples_leaf=1,\n",
       "                                             min_samples_split=2,\n",
       "                                             min_weight_fraction_leaf=0.0,\n",
       "                                             n_estimators=100, n_jobs=None,\n",
       "                                             oob_score=False, random_state=None,\n",
       "                                             verbose=0, warm_start=False),\n",
       "             iid='deprecated', n_jobs=None,\n",
       "             param_grid=[{'max_features': [2, 4, 6, 8],\n",
       "                          'n_estimators': [3, 10, 30]},\n",
       "                         {'bootstrap': [False], 'max_features': [2, 3, 4],\n",
       "                          'n_estimators': [3, 10]}],\n",
       "             pre_dispatch='2*n_jobs', refit=True, return_train_score=True,\n",
       "             scoring='neg_mean_squared_error', verbose=0)"
      ]
     },
     "execution_count": 59,
     "metadata": {},
     "output_type": "execute_result"
    }
   ],
   "source": [
    "from sklearn.model_selection import GridSearchCV\n",
    "\n",
    "param_grid = [\n",
    "    {'n_estimators': [3, 10, 30], 'max_features': [2, 4, 6, 8]},\n",
    "    {'bootstrap': [False], 'n_estimators': [3, 10], 'max_features': [2, 3, 4]}\n",
    "]\n",
    "\n",
    "forest_reg = RandomForestRegressor()\n",
    "grid_search = GridSearchCV(forest_reg, param_grid, cv= 5,\n",
    "                          scoring = 'neg_mean_squared_error',\n",
    "                          return_train_score = True)\n",
    "grid_search.fit(housing_prepared, housing_labels)"
   ]
  },
  {
   "cell_type": "markdown",
   "metadata": {},
   "source": [
    "We can find best parameters and model"
   ]
  },
  {
   "cell_type": "code",
   "execution_count": 60,
   "metadata": {},
   "outputs": [
    {
     "data": {
      "text/plain": [
       "{'max_features': 6, 'n_estimators': 30}"
      ]
     },
     "execution_count": 60,
     "metadata": {},
     "output_type": "execute_result"
    }
   ],
   "source": [
    "grid_search.best_params_ #since this is the upper bound of grid, we need to insert bigger parameter"
   ]
  },
  {
   "cell_type": "code",
   "execution_count": 61,
   "metadata": {},
   "outputs": [
    {
     "data": {
      "text/plain": [
       "RandomForestRegressor(bootstrap=True, ccp_alpha=0.0, criterion='mse',\n",
       "                      max_depth=None, max_features=6, max_leaf_nodes=None,\n",
       "                      max_samples=None, min_impurity_decrease=0.0,\n",
       "                      min_impurity_split=None, min_samples_leaf=1,\n",
       "                      min_samples_split=2, min_weight_fraction_leaf=0.0,\n",
       "                      n_estimators=30, n_jobs=None, oob_score=False,\n",
       "                      random_state=None, verbose=0, warm_start=False)"
      ]
     },
     "execution_count": 61,
     "metadata": {},
     "output_type": "execute_result"
    }
   ],
   "source": [
    "grid_search.best_estimator_"
   ]
  },
  {
   "cell_type": "code",
   "execution_count": 62,
   "metadata": {},
   "outputs": [
    {
     "data": {
      "text/html": [
       "<div>\n",
       "<style scoped>\n",
       "    .dataframe tbody tr th:only-of-type {\n",
       "        vertical-align: middle;\n",
       "    }\n",
       "\n",
       "    .dataframe tbody tr th {\n",
       "        vertical-align: top;\n",
       "    }\n",
       "\n",
       "    .dataframe thead th {\n",
       "        text-align: right;\n",
       "    }\n",
       "</style>\n",
       "<table border=\"1\" class=\"dataframe\">\n",
       "  <thead>\n",
       "    <tr style=\"text-align: right;\">\n",
       "      <th></th>\n",
       "      <th>mean_fit_time</th>\n",
       "      <th>std_fit_time</th>\n",
       "      <th>mean_score_time</th>\n",
       "      <th>std_score_time</th>\n",
       "      <th>param_max_features</th>\n",
       "      <th>param_n_estimators</th>\n",
       "      <th>param_bootstrap</th>\n",
       "      <th>params</th>\n",
       "      <th>split0_test_score</th>\n",
       "      <th>split1_test_score</th>\n",
       "      <th>...</th>\n",
       "      <th>mean_test_score</th>\n",
       "      <th>std_test_score</th>\n",
       "      <th>rank_test_score</th>\n",
       "      <th>split0_train_score</th>\n",
       "      <th>split1_train_score</th>\n",
       "      <th>split2_train_score</th>\n",
       "      <th>split3_train_score</th>\n",
       "      <th>split4_train_score</th>\n",
       "      <th>mean_train_score</th>\n",
       "      <th>std_train_score</th>\n",
       "    </tr>\n",
       "  </thead>\n",
       "  <tbody>\n",
       "    <tr>\n",
       "      <th>0</th>\n",
       "      <td>0.058416</td>\n",
       "      <td>0.001873</td>\n",
       "      <td>0.003204</td>\n",
       "      <td>0.000405</td>\n",
       "      <td>2</td>\n",
       "      <td>3</td>\n",
       "      <td>NaN</td>\n",
       "      <td>{'max_features': 2, 'n_estimators': 3}</td>\n",
       "      <td>-4.018462e+09</td>\n",
       "      <td>-4.274402e+09</td>\n",
       "      <td>...</td>\n",
       "      <td>-4.062925e+09</td>\n",
       "      <td>1.937056e+08</td>\n",
       "      <td>18</td>\n",
       "      <td>-1.120787e+09</td>\n",
       "      <td>-1.126083e+09</td>\n",
       "      <td>-1.033924e+09</td>\n",
       "      <td>-1.123856e+09</td>\n",
       "      <td>-1.111823e+09</td>\n",
       "      <td>-1.103294e+09</td>\n",
       "      <td>3.502285e+07</td>\n",
       "    </tr>\n",
       "    <tr>\n",
       "      <th>1</th>\n",
       "      <td>0.192090</td>\n",
       "      <td>0.003970</td>\n",
       "      <td>0.008988</td>\n",
       "      <td>0.000017</td>\n",
       "      <td>2</td>\n",
       "      <td>10</td>\n",
       "      <td>NaN</td>\n",
       "      <td>{'max_features': 2, 'n_estimators': 10}</td>\n",
       "      <td>-2.876040e+09</td>\n",
       "      <td>-3.289760e+09</td>\n",
       "      <td>...</td>\n",
       "      <td>-3.097553e+09</td>\n",
       "      <td>1.768323e+08</td>\n",
       "      <td>11</td>\n",
       "      <td>-5.808255e+08</td>\n",
       "      <td>-5.946791e+08</td>\n",
       "      <td>-5.770887e+08</td>\n",
       "      <td>-6.014897e+08</td>\n",
       "      <td>-5.588723e+08</td>\n",
       "      <td>-5.825911e+08</td>\n",
       "      <td>1.482733e+07</td>\n",
       "    </tr>\n",
       "    <tr>\n",
       "      <th>2</th>\n",
       "      <td>0.565691</td>\n",
       "      <td>0.004846</td>\n",
       "      <td>0.023148</td>\n",
       "      <td>0.000420</td>\n",
       "      <td>2</td>\n",
       "      <td>30</td>\n",
       "      <td>NaN</td>\n",
       "      <td>{'max_features': 2, 'n_estimators': 30}</td>\n",
       "      <td>-2.623042e+09</td>\n",
       "      <td>-2.937964e+09</td>\n",
       "      <td>...</td>\n",
       "      <td>-2.813048e+09</td>\n",
       "      <td>1.539568e+08</td>\n",
       "      <td>9</td>\n",
       "      <td>-4.358644e+08</td>\n",
       "      <td>-4.234249e+08</td>\n",
       "      <td>-4.243855e+08</td>\n",
       "      <td>-4.496777e+08</td>\n",
       "      <td>-4.239000e+08</td>\n",
       "      <td>-4.314505e+08</td>\n",
       "      <td>1.022790e+07</td>\n",
       "    </tr>\n",
       "    <tr>\n",
       "      <th>3</th>\n",
       "      <td>0.090132</td>\n",
       "      <td>0.001782</td>\n",
       "      <td>0.003194</td>\n",
       "      <td>0.000423</td>\n",
       "      <td>4</td>\n",
       "      <td>3</td>\n",
       "      <td>NaN</td>\n",
       "      <td>{'max_features': 4, 'n_estimators': 3}</td>\n",
       "      <td>-3.543759e+09</td>\n",
       "      <td>-3.693483e+09</td>\n",
       "      <td>...</td>\n",
       "      <td>-3.671377e+09</td>\n",
       "      <td>2.176653e+08</td>\n",
       "      <td>16</td>\n",
       "      <td>-9.743560e+08</td>\n",
       "      <td>-9.076029e+08</td>\n",
       "      <td>-9.298327e+08</td>\n",
       "      <td>-9.668927e+08</td>\n",
       "      <td>-1.058969e+09</td>\n",
       "      <td>-9.675307e+08</td>\n",
       "      <td>5.180823e+07</td>\n",
       "    </tr>\n",
       "    <tr>\n",
       "      <th>4</th>\n",
       "      <td>0.300253</td>\n",
       "      <td>0.005631</td>\n",
       "      <td>0.008383</td>\n",
       "      <td>0.000490</td>\n",
       "      <td>4</td>\n",
       "      <td>10</td>\n",
       "      <td>NaN</td>\n",
       "      <td>{'max_features': 4, 'n_estimators': 10}</td>\n",
       "      <td>-2.769631e+09</td>\n",
       "      <td>-2.807590e+09</td>\n",
       "      <td>...</td>\n",
       "      <td>-2.806303e+09</td>\n",
       "      <td>1.133590e+08</td>\n",
       "      <td>8</td>\n",
       "      <td>-5.206365e+08</td>\n",
       "      <td>-4.996616e+08</td>\n",
       "      <td>-5.132451e+08</td>\n",
       "      <td>-5.269272e+08</td>\n",
       "      <td>-5.253860e+08</td>\n",
       "      <td>-5.171713e+08</td>\n",
       "      <td>9.966653e+06</td>\n",
       "    </tr>\n",
       "    <tr>\n",
       "      <th>5</th>\n",
       "      <td>0.884528</td>\n",
       "      <td>0.011156</td>\n",
       "      <td>0.023769</td>\n",
       "      <td>0.000735</td>\n",
       "      <td>4</td>\n",
       "      <td>30</td>\n",
       "      <td>NaN</td>\n",
       "      <td>{'max_features': 4, 'n_estimators': 30}</td>\n",
       "      <td>-2.437515e+09</td>\n",
       "      <td>-2.599054e+09</td>\n",
       "      <td>...</td>\n",
       "      <td>-2.563948e+09</td>\n",
       "      <td>1.304571e+08</td>\n",
       "      <td>3</td>\n",
       "      <td>-3.958718e+08</td>\n",
       "      <td>-3.841269e+08</td>\n",
       "      <td>-3.888320e+08</td>\n",
       "      <td>-4.095846e+08</td>\n",
       "      <td>-3.950916e+08</td>\n",
       "      <td>-3.947014e+08</td>\n",
       "      <td>8.594186e+06</td>\n",
       "    </tr>\n",
       "    <tr>\n",
       "      <th>6</th>\n",
       "      <td>0.122040</td>\n",
       "      <td>0.003249</td>\n",
       "      <td>0.003192</td>\n",
       "      <td>0.000372</td>\n",
       "      <td>6</td>\n",
       "      <td>3</td>\n",
       "      <td>NaN</td>\n",
       "      <td>{'max_features': 6, 'n_estimators': 3}</td>\n",
       "      <td>-3.463716e+09</td>\n",
       "      <td>-3.501519e+09</td>\n",
       "      <td>...</td>\n",
       "      <td>-3.469306e+09</td>\n",
       "      <td>1.509679e+08</td>\n",
       "      <td>14</td>\n",
       "      <td>-9.570755e+08</td>\n",
       "      <td>-9.327056e+08</td>\n",
       "      <td>-9.264643e+08</td>\n",
       "      <td>-9.084867e+08</td>\n",
       "      <td>-8.898041e+08</td>\n",
       "      <td>-9.229073e+08</td>\n",
       "      <td>2.271520e+07</td>\n",
       "    </tr>\n",
       "    <tr>\n",
       "      <th>7</th>\n",
       "      <td>0.401025</td>\n",
       "      <td>0.004327</td>\n",
       "      <td>0.008184</td>\n",
       "      <td>0.000422</td>\n",
       "      <td>6</td>\n",
       "      <td>10</td>\n",
       "      <td>NaN</td>\n",
       "      <td>{'max_features': 6, 'n_estimators': 10}</td>\n",
       "      <td>-2.651889e+09</td>\n",
       "      <td>-2.857733e+09</td>\n",
       "      <td>...</td>\n",
       "      <td>-2.765428e+09</td>\n",
       "      <td>1.321724e+08</td>\n",
       "      <td>7</td>\n",
       "      <td>-5.050650e+08</td>\n",
       "      <td>-5.170348e+08</td>\n",
       "      <td>-4.973601e+08</td>\n",
       "      <td>-5.081086e+08</td>\n",
       "      <td>-5.076162e+08</td>\n",
       "      <td>-5.070370e+08</td>\n",
       "      <td>6.308269e+06</td>\n",
       "    </tr>\n",
       "    <tr>\n",
       "      <th>8</th>\n",
       "      <td>1.190254</td>\n",
       "      <td>0.009775</td>\n",
       "      <td>0.022527</td>\n",
       "      <td>0.000700</td>\n",
       "      <td>6</td>\n",
       "      <td>30</td>\n",
       "      <td>NaN</td>\n",
       "      <td>{'max_features': 6, 'n_estimators': 30}</td>\n",
       "      <td>-2.385754e+09</td>\n",
       "      <td>-2.538075e+09</td>\n",
       "      <td>...</td>\n",
       "      <td>-2.507264e+09</td>\n",
       "      <td>1.289380e+08</td>\n",
       "      <td>1</td>\n",
       "      <td>-3.970218e+08</td>\n",
       "      <td>-3.787673e+08</td>\n",
       "      <td>-3.729749e+08</td>\n",
       "      <td>-3.910621e+08</td>\n",
       "      <td>-3.803358e+08</td>\n",
       "      <td>-3.840324e+08</td>\n",
       "      <td>8.738389e+06</td>\n",
       "    </tr>\n",
       "    <tr>\n",
       "      <th>9</th>\n",
       "      <td>0.152924</td>\n",
       "      <td>0.003587</td>\n",
       "      <td>0.003401</td>\n",
       "      <td>0.000473</td>\n",
       "      <td>8</td>\n",
       "      <td>3</td>\n",
       "      <td>NaN</td>\n",
       "      <td>{'max_features': 8, 'n_estimators': 3}</td>\n",
       "      <td>-3.307309e+09</td>\n",
       "      <td>-3.387454e+09</td>\n",
       "      <td>...</td>\n",
       "      <td>-3.388051e+09</td>\n",
       "      <td>2.260748e+08</td>\n",
       "      <td>12</td>\n",
       "      <td>-9.675673e+08</td>\n",
       "      <td>-8.817165e+08</td>\n",
       "      <td>-8.757131e+08</td>\n",
       "      <td>-9.108213e+08</td>\n",
       "      <td>-9.566280e+08</td>\n",
       "      <td>-9.184892e+08</td>\n",
       "      <td>3.769364e+07</td>\n",
       "    </tr>\n",
       "    <tr>\n",
       "      <th>10</th>\n",
       "      <td>0.509067</td>\n",
       "      <td>0.005205</td>\n",
       "      <td>0.008202</td>\n",
       "      <td>0.000388</td>\n",
       "      <td>8</td>\n",
       "      <td>10</td>\n",
       "      <td>NaN</td>\n",
       "      <td>{'max_features': 8, 'n_estimators': 10}</td>\n",
       "      <td>-2.480195e+09</td>\n",
       "      <td>-2.826166e+09</td>\n",
       "      <td>...</td>\n",
       "      <td>-2.698423e+09</td>\n",
       "      <td>1.786976e+08</td>\n",
       "      <td>5</td>\n",
       "      <td>-5.202192e+08</td>\n",
       "      <td>-5.072322e+08</td>\n",
       "      <td>-4.873336e+08</td>\n",
       "      <td>-5.123021e+08</td>\n",
       "      <td>-4.973525e+08</td>\n",
       "      <td>-5.048879e+08</td>\n",
       "      <td>1.149305e+07</td>\n",
       "    </tr>\n",
       "    <tr>\n",
       "      <th>11</th>\n",
       "      <td>1.537019</td>\n",
       "      <td>0.014303</td>\n",
       "      <td>0.022897</td>\n",
       "      <td>0.000954</td>\n",
       "      <td>8</td>\n",
       "      <td>30</td>\n",
       "      <td>NaN</td>\n",
       "      <td>{'max_features': 8, 'n_estimators': 30}</td>\n",
       "      <td>-2.391399e+09</td>\n",
       "      <td>-2.550301e+09</td>\n",
       "      <td>...</td>\n",
       "      <td>-2.507510e+09</td>\n",
       "      <td>1.184762e+08</td>\n",
       "      <td>2</td>\n",
       "      <td>-3.917395e+08</td>\n",
       "      <td>-3.858859e+08</td>\n",
       "      <td>-3.794519e+08</td>\n",
       "      <td>-3.934354e+08</td>\n",
       "      <td>-3.818385e+08</td>\n",
       "      <td>-3.864702e+08</td>\n",
       "      <td>5.428249e+06</td>\n",
       "    </tr>\n",
       "    <tr>\n",
       "      <th>12</th>\n",
       "      <td>0.091104</td>\n",
       "      <td>0.003670</td>\n",
       "      <td>0.003584</td>\n",
       "      <td>0.000479</td>\n",
       "      <td>2</td>\n",
       "      <td>3</td>\n",
       "      <td>False</td>\n",
       "      <td>{'bootstrap': False, 'max_features': 2, 'n_est...</td>\n",
       "      <td>-4.127641e+09</td>\n",
       "      <td>-3.773602e+09</td>\n",
       "      <td>...</td>\n",
       "      <td>-3.885431e+09</td>\n",
       "      <td>2.521229e+08</td>\n",
       "      <td>17</td>\n",
       "      <td>-0.000000e+00</td>\n",
       "      <td>-0.000000e+00</td>\n",
       "      <td>-0.000000e+00</td>\n",
       "      <td>-4.306502e+01</td>\n",
       "      <td>-2.842964e+01</td>\n",
       "      <td>-1.429893e+01</td>\n",
       "      <td>1.811377e+01</td>\n",
       "    </tr>\n",
       "    <tr>\n",
       "      <th>13</th>\n",
       "      <td>0.291381</td>\n",
       "      <td>0.005931</td>\n",
       "      <td>0.009392</td>\n",
       "      <td>0.000477</td>\n",
       "      <td>2</td>\n",
       "      <td>10</td>\n",
       "      <td>False</td>\n",
       "      <td>{'bootstrap': False, 'max_features': 2, 'n_est...</td>\n",
       "      <td>-2.711134e+09</td>\n",
       "      <td>-3.040539e+09</td>\n",
       "      <td>...</td>\n",
       "      <td>-2.936081e+09</td>\n",
       "      <td>1.695470e+08</td>\n",
       "      <td>10</td>\n",
       "      <td>-0.000000e+00</td>\n",
       "      <td>-0.000000e+00</td>\n",
       "      <td>-1.177668e+03</td>\n",
       "      <td>-0.000000e+00</td>\n",
       "      <td>-0.000000e+00</td>\n",
       "      <td>-2.355337e+02</td>\n",
       "      <td>4.710674e+02</td>\n",
       "    </tr>\n",
       "    <tr>\n",
       "      <th>14</th>\n",
       "      <td>0.115846</td>\n",
       "      <td>0.001899</td>\n",
       "      <td>0.003193</td>\n",
       "      <td>0.000399</td>\n",
       "      <td>3</td>\n",
       "      <td>3</td>\n",
       "      <td>False</td>\n",
       "      <td>{'bootstrap': False, 'max_features': 3, 'n_est...</td>\n",
       "      <td>-3.265527e+09</td>\n",
       "      <td>-3.566564e+09</td>\n",
       "      <td>...</td>\n",
       "      <td>-3.546684e+09</td>\n",
       "      <td>1.930093e+08</td>\n",
       "      <td>15</td>\n",
       "      <td>-0.000000e+00</td>\n",
       "      <td>-0.000000e+00</td>\n",
       "      <td>-0.000000e+00</td>\n",
       "      <td>-0.000000e+00</td>\n",
       "      <td>-0.000000e+00</td>\n",
       "      <td>0.000000e+00</td>\n",
       "      <td>0.000000e+00</td>\n",
       "    </tr>\n",
       "    <tr>\n",
       "      <th>15</th>\n",
       "      <td>0.376846</td>\n",
       "      <td>0.002636</td>\n",
       "      <td>0.009397</td>\n",
       "      <td>0.000498</td>\n",
       "      <td>3</td>\n",
       "      <td>10</td>\n",
       "      <td>False</td>\n",
       "      <td>{'bootstrap': False, 'max_features': 3, 'n_est...</td>\n",
       "      <td>-2.582782e+09</td>\n",
       "      <td>-2.737129e+09</td>\n",
       "      <td>...</td>\n",
       "      <td>-2.744255e+09</td>\n",
       "      <td>1.353810e+08</td>\n",
       "      <td>6</td>\n",
       "      <td>-0.000000e+00</td>\n",
       "      <td>-0.000000e+00</td>\n",
       "      <td>-0.000000e+00</td>\n",
       "      <td>-0.000000e+00</td>\n",
       "      <td>-0.000000e+00</td>\n",
       "      <td>0.000000e+00</td>\n",
       "      <td>0.000000e+00</td>\n",
       "    </tr>\n",
       "    <tr>\n",
       "      <th>16</th>\n",
       "      <td>0.140490</td>\n",
       "      <td>0.003028</td>\n",
       "      <td>0.003792</td>\n",
       "      <td>0.000397</td>\n",
       "      <td>4</td>\n",
       "      <td>3</td>\n",
       "      <td>False</td>\n",
       "      <td>{'bootstrap': False, 'max_features': 4, 'n_est...</td>\n",
       "      <td>-3.334128e+09</td>\n",
       "      <td>-3.293505e+09</td>\n",
       "      <td>...</td>\n",
       "      <td>-3.417933e+09</td>\n",
       "      <td>2.291548e+08</td>\n",
       "      <td>13</td>\n",
       "      <td>-0.000000e+00</td>\n",
       "      <td>-0.000000e+00</td>\n",
       "      <td>-0.000000e+00</td>\n",
       "      <td>-0.000000e+00</td>\n",
       "      <td>-1.318866e+02</td>\n",
       "      <td>-2.637732e+01</td>\n",
       "      <td>5.275465e+01</td>\n",
       "    </tr>\n",
       "    <tr>\n",
       "      <th>17</th>\n",
       "      <td>0.461485</td>\n",
       "      <td>0.001978</td>\n",
       "      <td>0.009205</td>\n",
       "      <td>0.000437</td>\n",
       "      <td>4</td>\n",
       "      <td>10</td>\n",
       "      <td>False</td>\n",
       "      <td>{'bootstrap': False, 'max_features': 4, 'n_est...</td>\n",
       "      <td>-2.467861e+09</td>\n",
       "      <td>-2.681976e+09</td>\n",
       "      <td>...</td>\n",
       "      <td>-2.656620e+09</td>\n",
       "      <td>9.759697e+07</td>\n",
       "      <td>4</td>\n",
       "      <td>-0.000000e+00</td>\n",
       "      <td>-0.000000e+00</td>\n",
       "      <td>-0.000000e+00</td>\n",
       "      <td>-0.000000e+00</td>\n",
       "      <td>-0.000000e+00</td>\n",
       "      <td>0.000000e+00</td>\n",
       "      <td>0.000000e+00</td>\n",
       "    </tr>\n",
       "  </tbody>\n",
       "</table>\n",
       "<p>18 rows × 23 columns</p>\n",
       "</div>"
      ],
      "text/plain": [
       "    mean_fit_time  std_fit_time  mean_score_time  std_score_time  \\\n",
       "0        0.058416      0.001873         0.003204        0.000405   \n",
       "1        0.192090      0.003970         0.008988        0.000017   \n",
       "2        0.565691      0.004846         0.023148        0.000420   \n",
       "3        0.090132      0.001782         0.003194        0.000423   \n",
       "4        0.300253      0.005631         0.008383        0.000490   \n",
       "5        0.884528      0.011156         0.023769        0.000735   \n",
       "6        0.122040      0.003249         0.003192        0.000372   \n",
       "7        0.401025      0.004327         0.008184        0.000422   \n",
       "8        1.190254      0.009775         0.022527        0.000700   \n",
       "9        0.152924      0.003587         0.003401        0.000473   \n",
       "10       0.509067      0.005205         0.008202        0.000388   \n",
       "11       1.537019      0.014303         0.022897        0.000954   \n",
       "12       0.091104      0.003670         0.003584        0.000479   \n",
       "13       0.291381      0.005931         0.009392        0.000477   \n",
       "14       0.115846      0.001899         0.003193        0.000399   \n",
       "15       0.376846      0.002636         0.009397        0.000498   \n",
       "16       0.140490      0.003028         0.003792        0.000397   \n",
       "17       0.461485      0.001978         0.009205        0.000437   \n",
       "\n",
       "   param_max_features param_n_estimators param_bootstrap  \\\n",
       "0                   2                  3             NaN   \n",
       "1                   2                 10             NaN   \n",
       "2                   2                 30             NaN   \n",
       "3                   4                  3             NaN   \n",
       "4                   4                 10             NaN   \n",
       "5                   4                 30             NaN   \n",
       "6                   6                  3             NaN   \n",
       "7                   6                 10             NaN   \n",
       "8                   6                 30             NaN   \n",
       "9                   8                  3             NaN   \n",
       "10                  8                 10             NaN   \n",
       "11                  8                 30             NaN   \n",
       "12                  2                  3           False   \n",
       "13                  2                 10           False   \n",
       "14                  3                  3           False   \n",
       "15                  3                 10           False   \n",
       "16                  4                  3           False   \n",
       "17                  4                 10           False   \n",
       "\n",
       "                                               params  split0_test_score  \\\n",
       "0              {'max_features': 2, 'n_estimators': 3}      -4.018462e+09   \n",
       "1             {'max_features': 2, 'n_estimators': 10}      -2.876040e+09   \n",
       "2             {'max_features': 2, 'n_estimators': 30}      -2.623042e+09   \n",
       "3              {'max_features': 4, 'n_estimators': 3}      -3.543759e+09   \n",
       "4             {'max_features': 4, 'n_estimators': 10}      -2.769631e+09   \n",
       "5             {'max_features': 4, 'n_estimators': 30}      -2.437515e+09   \n",
       "6              {'max_features': 6, 'n_estimators': 3}      -3.463716e+09   \n",
       "7             {'max_features': 6, 'n_estimators': 10}      -2.651889e+09   \n",
       "8             {'max_features': 6, 'n_estimators': 30}      -2.385754e+09   \n",
       "9              {'max_features': 8, 'n_estimators': 3}      -3.307309e+09   \n",
       "10            {'max_features': 8, 'n_estimators': 10}      -2.480195e+09   \n",
       "11            {'max_features': 8, 'n_estimators': 30}      -2.391399e+09   \n",
       "12  {'bootstrap': False, 'max_features': 2, 'n_est...      -4.127641e+09   \n",
       "13  {'bootstrap': False, 'max_features': 2, 'n_est...      -2.711134e+09   \n",
       "14  {'bootstrap': False, 'max_features': 3, 'n_est...      -3.265527e+09   \n",
       "15  {'bootstrap': False, 'max_features': 3, 'n_est...      -2.582782e+09   \n",
       "16  {'bootstrap': False, 'max_features': 4, 'n_est...      -3.334128e+09   \n",
       "17  {'bootstrap': False, 'max_features': 4, 'n_est...      -2.467861e+09   \n",
       "\n",
       "    split1_test_score  ...  mean_test_score  std_test_score  rank_test_score  \\\n",
       "0       -4.274402e+09  ...    -4.062925e+09    1.937056e+08               18   \n",
       "1       -3.289760e+09  ...    -3.097553e+09    1.768323e+08               11   \n",
       "2       -2.937964e+09  ...    -2.813048e+09    1.539568e+08                9   \n",
       "3       -3.693483e+09  ...    -3.671377e+09    2.176653e+08               16   \n",
       "4       -2.807590e+09  ...    -2.806303e+09    1.133590e+08                8   \n",
       "5       -2.599054e+09  ...    -2.563948e+09    1.304571e+08                3   \n",
       "6       -3.501519e+09  ...    -3.469306e+09    1.509679e+08               14   \n",
       "7       -2.857733e+09  ...    -2.765428e+09    1.321724e+08                7   \n",
       "8       -2.538075e+09  ...    -2.507264e+09    1.289380e+08                1   \n",
       "9       -3.387454e+09  ...    -3.388051e+09    2.260748e+08               12   \n",
       "10      -2.826166e+09  ...    -2.698423e+09    1.786976e+08                5   \n",
       "11      -2.550301e+09  ...    -2.507510e+09    1.184762e+08                2   \n",
       "12      -3.773602e+09  ...    -3.885431e+09    2.521229e+08               17   \n",
       "13      -3.040539e+09  ...    -2.936081e+09    1.695470e+08               10   \n",
       "14      -3.566564e+09  ...    -3.546684e+09    1.930093e+08               15   \n",
       "15      -2.737129e+09  ...    -2.744255e+09    1.353810e+08                6   \n",
       "16      -3.293505e+09  ...    -3.417933e+09    2.291548e+08               13   \n",
       "17      -2.681976e+09  ...    -2.656620e+09    9.759697e+07                4   \n",
       "\n",
       "    split0_train_score  split1_train_score  split2_train_score  \\\n",
       "0        -1.120787e+09       -1.126083e+09       -1.033924e+09   \n",
       "1        -5.808255e+08       -5.946791e+08       -5.770887e+08   \n",
       "2        -4.358644e+08       -4.234249e+08       -4.243855e+08   \n",
       "3        -9.743560e+08       -9.076029e+08       -9.298327e+08   \n",
       "4        -5.206365e+08       -4.996616e+08       -5.132451e+08   \n",
       "5        -3.958718e+08       -3.841269e+08       -3.888320e+08   \n",
       "6        -9.570755e+08       -9.327056e+08       -9.264643e+08   \n",
       "7        -5.050650e+08       -5.170348e+08       -4.973601e+08   \n",
       "8        -3.970218e+08       -3.787673e+08       -3.729749e+08   \n",
       "9        -9.675673e+08       -8.817165e+08       -8.757131e+08   \n",
       "10       -5.202192e+08       -5.072322e+08       -4.873336e+08   \n",
       "11       -3.917395e+08       -3.858859e+08       -3.794519e+08   \n",
       "12       -0.000000e+00       -0.000000e+00       -0.000000e+00   \n",
       "13       -0.000000e+00       -0.000000e+00       -1.177668e+03   \n",
       "14       -0.000000e+00       -0.000000e+00       -0.000000e+00   \n",
       "15       -0.000000e+00       -0.000000e+00       -0.000000e+00   \n",
       "16       -0.000000e+00       -0.000000e+00       -0.000000e+00   \n",
       "17       -0.000000e+00       -0.000000e+00       -0.000000e+00   \n",
       "\n",
       "    split3_train_score  split4_train_score  mean_train_score  std_train_score  \n",
       "0        -1.123856e+09       -1.111823e+09     -1.103294e+09     3.502285e+07  \n",
       "1        -6.014897e+08       -5.588723e+08     -5.825911e+08     1.482733e+07  \n",
       "2        -4.496777e+08       -4.239000e+08     -4.314505e+08     1.022790e+07  \n",
       "3        -9.668927e+08       -1.058969e+09     -9.675307e+08     5.180823e+07  \n",
       "4        -5.269272e+08       -5.253860e+08     -5.171713e+08     9.966653e+06  \n",
       "5        -4.095846e+08       -3.950916e+08     -3.947014e+08     8.594186e+06  \n",
       "6        -9.084867e+08       -8.898041e+08     -9.229073e+08     2.271520e+07  \n",
       "7        -5.081086e+08       -5.076162e+08     -5.070370e+08     6.308269e+06  \n",
       "8        -3.910621e+08       -3.803358e+08     -3.840324e+08     8.738389e+06  \n",
       "9        -9.108213e+08       -9.566280e+08     -9.184892e+08     3.769364e+07  \n",
       "10       -5.123021e+08       -4.973525e+08     -5.048879e+08     1.149305e+07  \n",
       "11       -3.934354e+08       -3.818385e+08     -3.864702e+08     5.428249e+06  \n",
       "12       -4.306502e+01       -2.842964e+01     -1.429893e+01     1.811377e+01  \n",
       "13       -0.000000e+00       -0.000000e+00     -2.355337e+02     4.710674e+02  \n",
       "14       -0.000000e+00       -0.000000e+00      0.000000e+00     0.000000e+00  \n",
       "15       -0.000000e+00       -0.000000e+00      0.000000e+00     0.000000e+00  \n",
       "16       -0.000000e+00       -1.318866e+02     -2.637732e+01     5.275465e+01  \n",
       "17       -0.000000e+00       -0.000000e+00      0.000000e+00     0.000000e+00  \n",
       "\n",
       "[18 rows x 23 columns]"
      ]
     },
     "execution_count": 62,
     "metadata": {},
     "output_type": "execute_result"
    }
   ],
   "source": [
    "pd.DataFrame(grid_search.cv_results_)"
   ]
  },
  {
   "cell_type": "code",
   "execution_count": 63,
   "metadata": {
    "scrolled": true
   },
   "outputs": [
    {
     "name": "stdout",
     "output_type": "stream",
     "text": [
      "63741.07721425517 {'max_features': 2, 'n_estimators': 3}\n",
      "55655.66685235053 {'max_features': 2, 'n_estimators': 10}\n",
      "53038.17727723027 {'max_features': 2, 'n_estimators': 30}\n",
      "60591.886439748756 {'max_features': 4, 'n_estimators': 3}\n",
      "52974.55495358443 {'max_features': 4, 'n_estimators': 10}\n",
      "50635.44409463953 {'max_features': 4, 'n_estimators': 30}\n",
      "58900.81642878452 {'max_features': 6, 'n_estimators': 3}\n",
      "52587.34020253309 {'max_features': 6, 'n_estimators': 10}\n",
      "50072.58322618233 {'max_features': 6, 'n_estimators': 30}\n",
      "58206.96565626356 {'max_features': 8, 'n_estimators': 3}\n",
      "51946.34883980613 {'max_features': 8, 'n_estimators': 10}\n",
      "50075.03888349459 {'max_features': 8, 'n_estimators': 30}\n",
      "62333.222314516155 {'bootstrap': False, 'max_features': 2, 'n_estimators': 3}\n",
      "54185.61198448648 {'bootstrap': False, 'max_features': 2, 'n_estimators': 10}\n",
      "59554.04625112501 {'bootstrap': False, 'max_features': 3, 'n_estimators': 3}\n",
      "52385.63725716736 {'bootstrap': False, 'max_features': 3, 'n_estimators': 10}\n",
      "58463.09334734256 {'bootstrap': False, 'max_features': 4, 'n_estimators': 3}\n",
      "51542.41352694737 {'bootstrap': False, 'max_features': 4, 'n_estimators': 10}\n"
     ]
    }
   ],
   "source": [
    "cv_res = grid_search.cv_results_\n",
    "for mean_score, params in zip(cv_res['mean_test_score'], cv_res['params']):\n",
    "    print(np.sqrt(-mean_score), params)\n"
   ]
  },
  {
   "cell_type": "markdown",
   "metadata": {},
   "source": [
    "If we treat the data preprocessing step as a kind of hyperparameter, we can investigate more cases including whether should we add uncertain attribute or not. This kind of pipeline can simplify our tasks very much."
   ]
  },
  {
   "cell_type": "code",
   "execution_count": 64,
   "metadata": {},
   "outputs": [
    {
     "data": {
      "text/plain": [
       "RandomizedSearchCV(cv=5, error_score=nan,\n",
       "                   estimator=RandomForestRegressor(bootstrap=True,\n",
       "                                                   ccp_alpha=0.0,\n",
       "                                                   criterion='mse',\n",
       "                                                   max_depth=None,\n",
       "                                                   max_features='auto',\n",
       "                                                   max_leaf_nodes=None,\n",
       "                                                   max_samples=None,\n",
       "                                                   min_impurity_decrease=0.0,\n",
       "                                                   min_impurity_split=None,\n",
       "                                                   min_samples_leaf=1,\n",
       "                                                   min_samples_split=2,\n",
       "                                                   min_weight_fraction_leaf=0.0,\n",
       "                                                   n_estimators=100,\n",
       "                                                   n_jobs=None, oob_score=Fals...\n",
       "                   iid='deprecated', n_iter=10, n_jobs=None,\n",
       "                   param_distributions={'max_features': <scipy.stats._distn_infrastructure.rv_frozen object at 0x000002225D7EB588>,\n",
       "                                        'n_estimators': <scipy.stats._distn_infrastructure.rv_frozen object at 0x000002225FE8AC08>},\n",
       "                   pre_dispatch='2*n_jobs', random_state=42, refit=True,\n",
       "                   return_train_score=False, scoring='neg_mean_squared_error',\n",
       "                   verbose=0)"
      ]
     },
     "execution_count": 64,
     "metadata": {},
     "output_type": "execute_result"
    }
   ],
   "source": [
    "from sklearn.model_selection import RandomizedSearchCV\n",
    "from scipy.stats import randint\n",
    "\n",
    "param_distribs = {\n",
    "        'n_estimators': randint(low=1, high=200),\n",
    "        'max_features': randint(low=1, high=8),\n",
    "    }\n",
    "\n",
    "forest_reg = RandomForestRegressor(random_state=42)\n",
    "rnd_search = RandomizedSearchCV(forest_reg, param_distributions=param_distribs,\n",
    "                                n_iter=10, cv=5, scoring='neg_mean_squared_error', random_state=42)\n",
    "rnd_search.fit(housing_prepared, housing_labels)"
   ]
  },
  {
   "cell_type": "code",
   "execution_count": 65,
   "metadata": {},
   "outputs": [
    {
     "name": "stdout",
     "output_type": "stream",
     "text": [
      "49150.70756927707 {'max_features': 7, 'n_estimators': 180}\n",
      "51389.889203389284 {'max_features': 5, 'n_estimators': 15}\n",
      "50796.155224308866 {'max_features': 3, 'n_estimators': 72}\n",
      "50835.13360315349 {'max_features': 5, 'n_estimators': 21}\n",
      "49280.9449827171 {'max_features': 7, 'n_estimators': 122}\n",
      "50774.90662363929 {'max_features': 3, 'n_estimators': 75}\n",
      "50682.78888164288 {'max_features': 3, 'n_estimators': 88}\n",
      "49608.99608105296 {'max_features': 5, 'n_estimators': 100}\n",
      "50473.61930350219 {'max_features': 3, 'n_estimators': 150}\n",
      "64429.84143294435 {'max_features': 5, 'n_estimators': 2}\n"
     ]
    }
   ],
   "source": [
    "cvres = rnd_search.cv_results_\n",
    "for mean_score, params in zip(cvres[\"mean_test_score\"], cvres[\"params\"]):\n",
    "    print(np.sqrt(-mean_score), params)\n"
   ]
  },
  {
   "cell_type": "code",
   "execution_count": 66,
   "metadata": {},
   "outputs": [
    {
     "data": {
      "text/plain": [
       "[array(['<1H OCEAN', 'INLAND', 'ISLAND', 'NEAR BAY', 'NEAR OCEAN'],\n",
       "       dtype=object)]"
      ]
     },
     "execution_count": 66,
     "metadata": {},
     "output_type": "execute_result"
    }
   ],
   "source": [
    "full_pipeline.named_transformers_[\"cat_trns\"].categories_"
   ]
  },
  {
   "cell_type": "code",
   "execution_count": 67,
   "metadata": {},
   "outputs": [
    {
     "data": {
      "text/plain": [
       "[(0.34229951046141177, 'median_income'),\n",
       " (0.15881091491444982, 'INLAND'),\n",
       " (0.1115658193818688, 'pop_per_hhold'),\n",
       " (0.07501447956877866, 'longitude'),\n",
       " (0.06813957752622264, 'latitude'),\n",
       " (0.06170249207781527, 'bedrooms_per_room'),\n",
       " (0.054458076869126425, 'rooms_per_hhold'),\n",
       " (0.040234564237697126, 'housing_median_age'),\n",
       " (0.017782700794235575, 'total_rooms'),\n",
       " (0.017339425656782814, 'population'),\n",
       " (0.0166464107048157, 'total_bedrooms'),\n",
       " (0.01563323830769266, 'households'),\n",
       " (0.01166427065942226, '<1H OCEAN'),\n",
       " (0.004561867782064616, 'NEAR BAY'),\n",
       " (0.004028975203511937, 'NEAR OCEAN'),\n",
       " (0.0001176758541040467, 'ISLAND')]"
      ]
     },
     "execution_count": 67,
     "metadata": {},
     "output_type": "execute_result"
    }
   ],
   "source": [
    "feature_importances = grid_search.best_estimator_.feature_importances_\n",
    "\n",
    "num_attribs = list(housing_num)\n",
    "cat_attribs = [\"ocean_proximity\"]\n",
    "extra_attribs = [\"rooms_per_hhold\", \"pop_per_hhold\", \"bedrooms_per_room\"]\n",
    "cat_encoder = full_pipeline.named_transformers_[\"cat_trns\"]\n",
    "cat_one_hot_attribs = list(cat_encoder.categories_[0])\n",
    "attributes = num_attribs + extra_attribs + cat_one_hot_attribs\n",
    "sorted(zip(feature_importances, attributes), reverse=True)"
   ]
  },
  {
   "cell_type": "markdown",
   "metadata": {},
   "source": [
    "### Evaluation"
   ]
  },
  {
   "cell_type": "code",
   "execution_count": 68,
   "metadata": {},
   "outputs": [],
   "source": [
    "final_model = grid_search.best_estimator_\n",
    "\n",
    "X_test = strat_test_set.drop(\"median_house_value\", axis=1)\n",
    "y_test = strat_test_set[\"median_house_value\"].copy()\n",
    "\n",
    "X_test_prepared = full_pipeline.transform(X_test)\n",
    "final_predictions = final_model.predict(X_test_prepared)\n",
    "\n",
    "final_mse = mean_squared_error(y_test, final_predictions)\n",
    "final_rmse = np.sqrt(final_mse)"
   ]
  },
  {
   "cell_type": "code",
   "execution_count": 69,
   "metadata": {},
   "outputs": [
    {
     "data": {
      "text/plain": [
       "48302.611015393944"
      ]
     },
     "execution_count": 69,
     "metadata": {},
     "output_type": "execute_result"
    }
   ],
   "source": [
    "final_rmse"
   ]
  },
  {
   "cell_type": "code",
   "execution_count": 70,
   "metadata": {},
   "outputs": [
    {
     "data": {
      "text/plain": [
       "array([46283.79937635, 50240.36601279])"
      ]
     },
     "execution_count": 70,
     "metadata": {},
     "output_type": "execute_result"
    }
   ],
   "source": [
    "from scipy import stats\n",
    "\n",
    "confidence = 0.95\n",
    "squared_errors = (final_predictions - y_test) ** 2\n",
    "np.sqrt(stats.t.interval(confidence, len(squared_errors) - 1,\n",
    "                         loc=squared_errors.mean(),\n",
    "                         scale=stats.sem(squared_errors)))"
   ]
  },
  {
   "cell_type": "markdown",
   "metadata": {},
   "source": [
    "# Exercise\n",
    "## Q1"
   ]
  },
  {
   "cell_type": "code",
   "execution_count": 123,
   "metadata": {},
   "outputs": [
    {
     "data": {
      "text/plain": [
       "GridSearchCV(cv=2, error_score=nan,\n",
       "             estimator=SVR(C=1.0, cache_size=200, coef0=0.0, degree=3,\n",
       "                           epsilon=0.1, gamma='scale', kernel='rbf',\n",
       "                           max_iter=-1, shrinking=True, tol=0.001,\n",
       "                           verbose=False),\n",
       "             iid='deprecated', n_jobs=None,\n",
       "             param_grid=[{'C': [1, 10, 3000], 'gamma': ['auto'],\n",
       "                          'kernel': ['rbf']},\n",
       "                         {'C': [1, 10, 3000], 'gamma': [0.01, 0.1, 1, 3],\n",
       "                          'kernel': ['linear']}],\n",
       "             pre_dispatch='2*n_jobs', refit=True, return_train_score=True,\n",
       "             scoring='neg_mean_squared_error', verbose=0)"
      ]
     },
     "execution_count": 123,
     "metadata": {},
     "output_type": "execute_result"
    }
   ],
   "source": [
    "from sklearn.model_selection import GridSearchCV\n",
    "from sklearn.svm import SVR\n",
    "\n",
    "svr = SVR()\n",
    "params = [\n",
    "    {'kernel': ['rbf'], 'C': [1,10,3000], 'gamma': ['auto']},\n",
    "    {'kernel': ['linear'], 'C': [1,10,3000], 'gamma': [0.01, 0.1, 1, 3]},\n",
    "]\n",
    "\n",
    "grid = GridSearchCV(svr, params, cv = 2,\n",
    "                    scoring = 'neg_mean_squared_error',\n",
    "                    return_train_score = True)\n",
    "grid.fit(housing_prepared, housing_labels)"
   ]
  },
  {
   "cell_type": "code",
   "execution_count": 124,
   "metadata": {},
   "outputs": [
    {
     "data": {
      "text/plain": [
       "{'C': 3000, 'gamma': 'auto', 'kernel': 'rbf'}"
      ]
     },
     "execution_count": 124,
     "metadata": {},
     "output_type": "execute_result"
    }
   ],
   "source": [
    "grid.best_params_"
   ]
  },
  {
   "cell_type": "code",
   "execution_count": 126,
   "metadata": {},
   "outputs": [
    {
     "data": {
      "text/plain": [
       "{'mean_fit_time': array([2.60733652, 2.61558783, 2.5005213 , 1.69979441, 1.69301724,\n",
       "        1.6557039 , 1.70455825, 1.66142917, 1.66537416, 1.63804317,\n",
       "        1.64099169, 1.86956847, 1.89453912, 1.86548662, 1.87891304]),\n",
       " 'std_fit_time': array([0.01372504, 0.03066647, 0.03069818, 0.03168833, 0.00505209,\n",
       "        0.01028097, 0.01869428, 0.00320101, 0.01367033, 0.00701165,\n",
       "        0.02690506, 0.02230012, 0.05045223, 0.00942755, 0.04595506]),\n",
       " 'mean_score_time': array([1.5109477 , 1.5293802 , 1.50784373, 0.7353251 , 0.74271774,\n",
       "        0.73748064, 0.74314594, 0.74019647, 0.74561429, 0.7460736 ,\n",
       "        0.73573565, 0.73396611, 0.74036765, 0.73453307, 0.72756088]),\n",
       " 'std_score_time': array([0.01684856, 0.00518525, 0.00512838, 0.00134873, 0.00027132,\n",
       "        0.00250697, 0.00115371, 0.00341868, 0.00873065, 0.00212324,\n",
       "        0.00257993, 0.00392056, 0.00585032, 0.00049543, 0.00152218]),\n",
       " 'param_C': masked_array(data=[1, 10, 3000, 1, 1, 1, 1, 10, 10, 10, 10, 3000, 3000,\n",
       "                    3000, 3000],\n",
       "              mask=[False, False, False, False, False, False, False, False,\n",
       "                    False, False, False, False, False, False, False],\n",
       "        fill_value='?',\n",
       "             dtype=object),\n",
       " 'param_gamma': masked_array(data=['auto', 'auto', 'auto', 0.01, 0.1, 1, 3, 0.01, 0.1, 1,\n",
       "                    3, 0.01, 0.1, 1, 3],\n",
       "              mask=[False, False, False, False, False, False, False, False,\n",
       "                    False, False, False, False, False, False, False],\n",
       "        fill_value='?',\n",
       "             dtype=object),\n",
       " 'param_kernel': masked_array(data=['rbf', 'rbf', 'rbf', 'linear', 'linear', 'linear',\n",
       "                    'linear', 'linear', 'linear', 'linear', 'linear',\n",
       "                    'linear', 'linear', 'linear', 'linear'],\n",
       "              mask=[False, False, False, False, False, False, False, False,\n",
       "                    False, False, False, False, False, False, False],\n",
       "        fill_value='?',\n",
       "             dtype=object),\n",
       " 'params': [{'C': 1, 'gamma': 'auto', 'kernel': 'rbf'},\n",
       "  {'C': 10, 'gamma': 'auto', 'kernel': 'rbf'},\n",
       "  {'C': 3000, 'gamma': 'auto', 'kernel': 'rbf'},\n",
       "  {'C': 1, 'gamma': 0.01, 'kernel': 'linear'},\n",
       "  {'C': 1, 'gamma': 0.1, 'kernel': 'linear'},\n",
       "  {'C': 1, 'gamma': 1, 'kernel': 'linear'},\n",
       "  {'C': 1, 'gamma': 3, 'kernel': 'linear'},\n",
       "  {'C': 10, 'gamma': 0.01, 'kernel': 'linear'},\n",
       "  {'C': 10, 'gamma': 0.1, 'kernel': 'linear'},\n",
       "  {'C': 10, 'gamma': 1, 'kernel': 'linear'},\n",
       "  {'C': 10, 'gamma': 3, 'kernel': 'linear'},\n",
       "  {'C': 3000, 'gamma': 0.01, 'kernel': 'linear'},\n",
       "  {'C': 3000, 'gamma': 0.1, 'kernel': 'linear'},\n",
       "  {'C': 3000, 'gamma': 1, 'kernel': 'linear'},\n",
       "  {'C': 3000, 'gamma': 3, 'kernel': 'linear'}],\n",
       " 'split0_test_score': array([-1.36664223e+10, -1.32925947e+10, -4.42031228e+09, -1.27547369e+10,\n",
       "        -1.27547369e+10, -1.27547369e+10, -1.27547369e+10, -8.03004282e+09,\n",
       "        -8.03004282e+09, -8.03004282e+09, -8.03004282e+09, -4.94689588e+09,\n",
       "        -4.94689588e+09, -4.94689588e+09, -4.94689588e+09]),\n",
       " 'split1_test_score': array([-1.45474331e+10, -1.41757833e+10, -4.67731875e+09, -1.36459145e+10,\n",
       "        -1.36459145e+10, -1.36459145e+10, -1.36459145e+10, -8.75134676e+09,\n",
       "        -8.75134676e+09, -8.75134676e+09, -8.75134676e+09, -4.98486911e+09,\n",
       "        -4.98486911e+09, -4.98486911e+09, -4.98486911e+09]),\n",
       " 'mean_test_score': array([-1.41069277e+10, -1.37341890e+10, -4.54881551e+09, -1.32003257e+10,\n",
       "        -1.32003257e+10, -1.32003257e+10, -1.32003257e+10, -8.39069479e+09,\n",
       "        -8.39069479e+09, -8.39069479e+09, -8.39069479e+09, -4.96588249e+09,\n",
       "        -4.96588249e+09, -4.96588249e+09, -4.96588249e+09]),\n",
       " 'std_test_score': array([4.40505382e+08, 4.41594301e+08, 1.28503239e+08, 4.45588820e+08,\n",
       "        4.45588820e+08, 4.45588820e+08, 4.45588820e+08, 3.60651970e+08,\n",
       "        3.60651970e+08, 3.60651970e+08, 3.60651970e+08, 1.89866139e+07,\n",
       "        1.89866139e+07, 1.89866139e+07, 1.89866139e+07]),\n",
       " 'rank_test_score': array([15, 14,  1, 10, 10, 10, 10,  6,  6,  6,  6,  2,  2,  2,  2]),\n",
       " 'split0_train_score': array([-1.42527738e+10, -1.38690361e+10, -4.49587281e+09, -1.33301488e+10,\n",
       "        -1.33301488e+10, -1.33301488e+10, -1.33301488e+10, -8.46029913e+09,\n",
       "        -8.46029913e+09, -8.46029913e+09, -8.46029913e+09, -4.87347158e+09,\n",
       "        -4.87347158e+09, -4.87347158e+09, -4.87347158e+09]),\n",
       " 'split1_train_score': array([-1.39082685e+10, -1.35449031e+10, -4.46792754e+09, -1.30151924e+10,\n",
       "        -1.30151924e+10, -1.30151924e+10, -1.30151924e+10, -8.26714480e+09,\n",
       "        -8.26714480e+09, -8.26714480e+09, -8.26714480e+09, -4.94120423e+09,\n",
       "        -4.94120423e+09, -4.94120423e+09, -4.94120423e+09]),\n",
       " 'mean_train_score': array([-1.40805211e+10, -1.37069696e+10, -4.48190017e+09, -1.31726706e+10,\n",
       "        -1.31726706e+10, -1.31726706e+10, -1.31726706e+10, -8.36372196e+09,\n",
       "        -8.36372196e+09, -8.36372196e+09, -8.36372196e+09, -4.90733791e+09,\n",
       "        -4.90733791e+09, -4.90733791e+09, -4.90733791e+09]),\n",
       " 'std_train_score': array([1.72252645e+08, 1.62066512e+08, 1.39726376e+07, 1.57478176e+08,\n",
       "        1.57478176e+08, 1.57478176e+08, 1.57478176e+08, 9.65771642e+07,\n",
       "        9.65771642e+07, 9.65771642e+07, 9.65771642e+07, 3.38663232e+07,\n",
       "        3.38663232e+07, 3.38663232e+07, 3.38663232e+07])}"
      ]
     },
     "execution_count": 126,
     "metadata": {},
     "output_type": "execute_result"
    }
   ],
   "source": [
    "grid.cv_results_"
   ]
  },
  {
   "cell_type": "code",
   "execution_count": 127,
   "metadata": {},
   "outputs": [
    {
     "data": {
      "text/plain": [
       "67444.90725562112"
      ]
     },
     "execution_count": 127,
     "metadata": {},
     "output_type": "execute_result"
    }
   ],
   "source": [
    "neg_mse = grid.best_score_\n",
    "rmse = np.sqrt(-neg_mse)\n",
    "rmse"
   ]
  },
  {
   "cell_type": "code",
   "execution_count": 125,
   "metadata": {},
   "outputs": [
    {
     "data": {
      "text/plain": [
       "SVR(C=3000, cache_size=200, coef0=0.0, degree=3, epsilon=0.1, gamma='auto',\n",
       "    kernel='rbf', max_iter=-1, shrinking=True, tol=0.001, verbose=False)"
      ]
     },
     "execution_count": 125,
     "metadata": {},
     "output_type": "execute_result"
    }
   ],
   "source": [
    "grid.best_estimator_"
   ]
  },
  {
   "cell_type": "markdown",
   "metadata": {},
   "source": [
    "## Q2"
   ]
  },
  {
   "cell_type": "markdown",
   "metadata": {},
   "source": [
    "Use reciprocal() function when we cannot guess the scale of hyperparameter at all. On the other hand, use expon() function when we know the scale of hyperparameter somehow.\n"
   ]
  },
  {
   "cell_type": "code",
   "execution_count": 139,
   "metadata": {},
   "outputs": [
    {
     "data": {
      "image/png": "[encoded data removed]",
      "text/plain": [
       "<Figure size 720x288 with 2 Axes>"
      ]
     },
     "metadata": {
      "needs_background": "light"
     },
     "output_type": "display_data"
    }
   ],
   "source": [
    "reciprocal_distrib = reciprocal(20, 200000)\n",
    "samples = reciprocal_distrib.rvs(10000, random_state=42)\n",
    "plt.figure(figsize=(10, 4))\n",
    "plt.subplot(121)\n",
    "plt.title(\"Reciprocal distribution (scale=1.0)\")\n",
    "plt.hist(samples, bins=50)\n",
    "plt.subplot(122)\n",
    "plt.title(\"Log of this distribution\") #even distribution\n",
    "plt.hist(np.log(samples), bins=50)\n",
    "plt.show()"
   ]
  },
  {
   "cell_type": "code",
   "execution_count": 138,
   "metadata": {
    "scrolled": true
   },
   "outputs": [
    {
     "data": {
      "image/png": "[encoded data removed]",
      "text/plain": [
       "<Figure size 720x288 with 2 Axes>"
      ]
     },
     "metadata": {
      "needs_background": "light"
     },
     "output_type": "display_data"
    }
   ],
   "source": [
    "expon_distrib = expon(scale=1.)\n",
    "samples = expon_distrib.rvs(10000, random_state=42)\n",
    "plt.figure(figsize=(10, 4))\n",
    "plt.subplot(121)\n",
    "plt.title(\"Exponential distribution (scale=1.0)\")\n",
    "plt.hist(samples, bins=50)\n",
    "plt.subplot(122)\n",
    "plt.title(\"Log of this distribution\") #centered distribution\n",
    "plt.hist(np.log(samples), bins=50)\n",
    "plt.show()"
   ]
  },
  {
   "cell_type": "code",
   "execution_count": 131,
   "metadata": {},
   "outputs": [
    {
     "data": {
      "text/plain": [
       "<scipy.stats._distn_infrastructure.rv_frozen at 0x22208894b88>"
      ]
     },
     "execution_count": 131,
     "metadata": {},
     "output_type": "execute_result"
    }
   ],
   "source": [
    "from scipy.stats import reciprocal, expon\n",
    "\n",
    "reciprocal(20,20000)"
   ]
  },
  {
   "cell_type": "code",
   "execution_count": 134,
   "metadata": {},
   "outputs": [
    {
     "name": "stdout",
     "output_type": "stream",
     "text": [
      "Fitting 5 folds for each of 10 candidates, totalling 50 fits\n",
      "[CV] C=530.065161283703, kernel=rbf ..................................\n"
     ]
    },
    {
     "name": "stderr",
     "output_type": "stream",
     "text": [
      "[Parallel(n_jobs=1)]: Using backend SequentialBackend with 1 concurrent workers.\n"
     ]
    },
    {
     "name": "stdout",
     "output_type": "stream",
     "text": [
      "[CV] ................... C=530.065161283703, kernel=rbf, total=   7.1s\n",
      "[CV] C=530.065161283703, kernel=rbf ..................................\n"
     ]
    },
    {
     "name": "stderr",
     "output_type": "stream",
     "text": [
      "[Parallel(n_jobs=1)]: Done   1 out of   1 | elapsed:   10.8s remaining:    0.0s\n"
     ]
    },
    {
     "name": "stdout",
     "output_type": "stream",
     "text": [
      "[CV] ................... C=530.065161283703, kernel=rbf, total=   7.1s\n",
      "[CV] C=530.065161283703, kernel=rbf ..................................\n",
      "[CV] ................... C=530.065161283703, kernel=rbf, total=   7.2s\n",
      "[CV] C=530.065161283703, kernel=rbf ..................................\n",
      "[CV] ................... C=530.065161283703, kernel=rbf, total=   7.1s\n",
      "[CV] C=530.065161283703, kernel=rbf ..................................\n",
      "[CV] ................... C=530.065161283703, kernel=rbf, total=   7.3s\n",
      "[CV] C=654.4157137320464, kernel=rbf .................................\n",
      "[CV] .................. C=654.4157137320464, kernel=rbf, total=   7.2s\n",
      "[CV] C=654.4157137320464, kernel=rbf .................................\n",
      "[CV] .................. C=654.4157137320464, kernel=rbf, total=   7.0s\n",
      "[CV] C=654.4157137320464, kernel=rbf .................................\n",
      "[CV] .................. C=654.4157137320464, kernel=rbf, total=   7.0s\n",
      "[CV] C=654.4157137320464, kernel=rbf .................................\n",
      "[CV] .................. C=654.4157137320464, kernel=rbf, total=   7.0s\n",
      "[CV] C=654.4157137320464, kernel=rbf .................................\n",
      "[CV] .................. C=654.4157137320464, kernel=rbf, total=   7.4s\n",
      "[CV] C=2.036173816248182, kernel=rbf .................................\n",
      "[CV] .................. C=2.036173816248182, kernel=rbf, total=   7.5s\n",
      "[CV] C=2.036173816248182, kernel=rbf .................................\n",
      "[CV] .................. C=2.036173816248182, kernel=rbf, total=   7.5s\n",
      "[CV] C=2.036173816248182, kernel=rbf .................................\n",
      "[CV] .................. C=2.036173816248182, kernel=rbf, total=   7.5s\n",
      "[CV] C=2.036173816248182, kernel=rbf .................................\n",
      "[CV] .................. C=2.036173816248182, kernel=rbf, total=   7.4s\n",
      "[CV] C=2.036173816248182, kernel=rbf .................................\n",
      "[CV] .................. C=2.036173816248182, kernel=rbf, total=   7.5s\n",
      "[CV] C=29.004551534267197, kernel=rbf ................................\n",
      "[CV] ................. C=29.004551534267197, kernel=rbf, total=   7.4s\n",
      "[CV] C=29.004551534267197, kernel=rbf ................................\n",
      "[CV] ................. C=29.004551534267197, kernel=rbf, total=   7.4s\n",
      "[CV] C=29.004551534267197, kernel=rbf ................................\n",
      "[CV] ................. C=29.004551534267197, kernel=rbf, total=   7.4s\n",
      "[CV] C=29.004551534267197, kernel=rbf ................................\n",
      "[CV] ................. C=29.004551534267197, kernel=rbf, total=   7.4s\n",
      "[CV] C=29.004551534267197, kernel=rbf ................................\n",
      "[CV] ................. C=29.004551534267197, kernel=rbf, total=   7.4s\n",
      "[CV] C=1.2168073066223983, kernel=rbf ................................\n",
      "[CV] ................. C=1.2168073066223983, kernel=rbf, total=   7.4s\n",
      "[CV] C=1.2168073066223983, kernel=rbf ................................\n",
      "[CV] ................. C=1.2168073066223983, kernel=rbf, total=   7.5s\n",
      "[CV] C=1.2168073066223983, kernel=rbf ................................\n",
      "[CV] ................. C=1.2168073066223983, kernel=rbf, total=   7.5s\n",
      "[CV] C=1.2168073066223983, kernel=rbf ................................\n",
      "[CV] ................. C=1.2168073066223983, kernel=rbf, total=   7.5s\n",
      "[CV] C=1.2168073066223983, kernel=rbf ................................\n",
      "[CV] ................. C=1.2168073066223983, kernel=rbf, total=   7.4s\n",
      "[CV] C=1819.2781929121861, kernel=rbf ................................\n",
      "[CV] ................. C=1819.2781929121861, kernel=rbf, total=   7.0s\n",
      "[CV] C=1819.2781929121861, kernel=rbf ................................\n",
      "[CV] ................. C=1819.2781929121861, kernel=rbf, total=   7.0s\n",
      "[CV] C=1819.2781929121861, kernel=rbf ................................\n",
      "[CV] ................. C=1819.2781929121861, kernel=rbf, total=   7.0s\n",
      "[CV] C=1819.2781929121861, kernel=rbf ................................\n",
      "[CV] ................. C=1819.2781929121861, kernel=rbf, total=   7.0s\n",
      "[CV] C=1819.2781929121861, kernel=rbf ................................\n",
      "[CV] ................. C=1819.2781929121861, kernel=rbf, total=   7.2s\n",
      "[CV] C=3.0804307337246777, kernel=rbf ................................\n",
      "[CV] ................. C=3.0804307337246777, kernel=rbf, total=   7.5s\n",
      "[CV] C=3.0804307337246777, kernel=rbf ................................\n",
      "[CV] ................. C=3.0804307337246777, kernel=rbf, total=   7.6s\n",
      "[CV] C=3.0804307337246777, kernel=rbf ................................\n",
      "[CV] ................. C=3.0804307337246777, kernel=rbf, total=   7.6s\n",
      "[CV] C=3.0804307337246777, kernel=rbf ................................\n",
      "[CV] ................. C=3.0804307337246777, kernel=rbf, total=   7.6s\n",
      "[CV] C=3.0804307337246777, kernel=rbf ................................\n",
      "[CV] ................. C=3.0804307337246777, kernel=rbf, total=   7.5s\n",
      "[CV] C=54082.951891182776, kernel=rbf ................................\n",
      "[CV] ................. C=54082.951891182776, kernel=rbf, total=   7.8s\n",
      "[CV] C=54082.951891182776, kernel=rbf ................................\n",
      "[CV] ................. C=54082.951891182776, kernel=rbf, total=   7.9s\n",
      "[CV] C=54082.951891182776, kernel=rbf ................................\n",
      "[CV] ................. C=54082.951891182776, kernel=rbf, total=   7.9s\n",
      "[CV] C=54082.951891182776, kernel=rbf ................................\n",
      "[CV] ................. C=54082.951891182776, kernel=rbf, total=   7.5s\n",
      "[CV] C=54082.951891182776, kernel=rbf ................................\n",
      "[CV] ................. C=54082.951891182776, kernel=rbf, total=   7.5s\n",
      "[CV] C=2.888296230248687, kernel=rbf .................................\n",
      "[CV] .................. C=2.888296230248687, kernel=rbf, total=   7.5s\n",
      "[CV] C=2.888296230248687, kernel=rbf .................................\n",
      "[CV] .................. C=2.888296230248687, kernel=rbf, total=   7.6s\n",
      "[CV] C=2.888296230248687, kernel=rbf .................................\n",
      "[CV] .................. C=2.888296230248687, kernel=rbf, total=   7.5s\n",
      "[CV] C=2.888296230248687, kernel=rbf .................................\n",
      "[CV] .................. C=2.888296230248687, kernel=rbf, total=   7.5s\n",
      "[CV] C=2.888296230248687, kernel=rbf .................................\n",
      "[CV] .................. C=2.888296230248687, kernel=rbf, total=   7.5s\n",
      "[CV] C=0.718645288526939, kernel=rbf .................................\n",
      "[CV] .................. C=0.718645288526939, kernel=rbf, total=   7.4s\n",
      "[CV] C=0.718645288526939, kernel=rbf .................................\n",
      "[CV] .................. C=0.718645288526939, kernel=rbf, total=   7.6s\n",
      "[CV] C=0.718645288526939, kernel=rbf .................................\n",
      "[CV] .................. C=0.718645288526939, kernel=rbf, total=   7.6s\n",
      "[CV] C=0.718645288526939, kernel=rbf .................................\n",
      "[CV] .................. C=0.718645288526939, kernel=rbf, total=   7.7s\n",
      "[CV] C=0.718645288526939, kernel=rbf .................................\n",
      "[CV] .................. C=0.718645288526939, kernel=rbf, total=   7.5s\n"
     ]
    },
    {
     "name": "stderr",
     "output_type": "stream",
     "text": [
      "[Parallel(n_jobs=1)]: Done  50 out of  50 | elapsed:  9.3min finished\n"
     ]
    },
    {
     "data": {
      "text/plain": [
       "RandomizedSearchCV(cv=5, error_score=nan,\n",
       "                   estimator=SVR(C=1.0, cache_size=200, coef0=0.0, degree=3,\n",
       "                                 epsilon=0.1, gamma='scale', kernel='rbf',\n",
       "                                 max_iter=-1, shrinking=True, tol=0.001,\n",
       "                                 verbose=False),\n",
       "                   iid='deprecated', n_iter=10, n_jobs=None,\n",
       "                   param_distributions=[{'C': <scipy.stats._distn_infrastructure.rv_frozen object at 0x0000022208649B48>,\n",
       "                                         'kernel': ['rbf']},\n",
       "                                        {'C': <scipy.stats._distn_infrastructure.rv_frozen object at 0x0000022209667B88>,\n",
       "                                         'kernel': ['rbf']}],\n",
       "                   pre_dispatch='2*n_jobs', random_state=None, refit=True,\n",
       "                   return_train_score=True, scoring='neg_mean_squared_error',\n",
       "                   verbose=2)"
      ]
     },
     "execution_count": 134,
     "metadata": {},
     "output_type": "execute_result"
    }
   ],
   "source": [
    "from sklearn.model_selection import RandomizedSearchCV\n",
    "from scipy.stats import reciprocal, expon\n",
    "\n",
    "svr = SVR()\n",
    "params = [\n",
    "    {'kernel': ['rbf'], 'C': reciprocal(20, 200000)},\n",
    "    {'kernel': ['rbf'], 'C': expon(scale = 1.0)},\n",
    "]\n",
    "\n",
    "rand_grid = RandomizedSearchCV(svr, params, cv = 5,\n",
    "                    scoring = 'neg_mean_squared_error',\n",
    "                    return_train_score = True, n_iter = 10, verbose = 2)\n",
    "rand_grid.fit(housing_prepared, housing_labels)"
   ]
  },
  {
   "cell_type": "code",
   "execution_count": 135,
   "metadata": {},
   "outputs": [
    {
     "data": {
      "text/plain": [
       "{'C': 54082.951891182776, 'kernel': 'rbf'}"
      ]
     },
     "execution_count": 135,
     "metadata": {},
     "output_type": "execute_result"
    }
   ],
   "source": [
    "rand_grid.best_params_"
   ]
  },
  {
   "cell_type": "code",
   "execution_count": 137,
   "metadata": {},
   "outputs": [
    {
     "data": {
      "text/plain": [
       "58072.47339333931"
      ]
     },
     "execution_count": 137,
     "metadata": {},
     "output_type": "execute_result"
    }
   ],
   "source": [
    "rand_neg_mse = rand_grid.best_score_\n",
    "rand_rmse = np.sqrt(-rand_neg_mse)\n",
    "rand_rmse"
   ]
  },
  {
   "cell_type": "code",
   "execution_count": null,
   "metadata": {},
   "outputs": [],
   "source": []
  }
 ],
 "metadata": {
  "kernelspec": {
   "display_name": "Python 3",
   "language": "python",
   "name": "python3"
  },
  "language_info": {
   "codemirror_mode": {
    "name": "ipython",
    "version": 3
   },
   "file_extension": ".py",
   "mimetype": "text/x-python",
   "name": "python",
   "nbconvert_exporter": "python",
   "pygments_lexer": "ipython3",
   "version": "3.7.6"
  }
 },
 "nbformat": 4,
 "nbformat_minor": 4
}
